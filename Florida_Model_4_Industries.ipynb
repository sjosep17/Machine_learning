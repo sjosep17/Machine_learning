{
 "cells": [
  {
   "cell_type": "code",
   "execution_count": 1,
   "metadata": {
    "collapsed": true
   },
   "outputs": [],
   "source": [
    "import warnings\n",
    "warnings.simplefilter('ignore')\n",
    "\n",
    "# %matplotlib inline\n",
    "import matplotlib.pyplot as plt\n",
    "import numpy as np\n",
    "import pandas as pd"
   ]
  },
  {
   "cell_type": "code",
   "execution_count": 2,
   "metadata": {},
   "outputs": [],
   "source": [
    "# Read the csv file into a pandas DataFrame\n",
    "\n",
    "fla = pd.read_csv('Florida_2.csv')\n",
    "# fla.head()"
   ]
  },
  {
   "cell_type": "code",
   "execution_count": 3,
   "metadata": {},
   "outputs": [],
   "source": [
    "from sklearn.model_selection import train_test_split"
   ]
  },
  {
   "cell_type": "code",
   "execution_count": 4,
   "metadata": {},
   "outputs": [],
   "source": [
    "from sklearn.linear_model import LinearRegression\n"
   ]
  },
  {
   "cell_type": "code",
   "execution_count": 5,
   "metadata": {},
   "outputs": [],
   "source": [
    "# LASSO model\n",
    "#Note: Use an alpha of .7\n",
    "from sklearn.linear_model import Lasso"
   ]
  },
  {
   "cell_type": "code",
   "execution_count": 6,
   "metadata": {},
   "outputs": [],
   "source": [
    "# Ridge model\n",
    "# Note: Use an alpha of .7\n",
    "from sklearn.linear_model import Ridge"
   ]
  },
  {
   "cell_type": "code",
   "execution_count": 7,
   "metadata": {},
   "outputs": [],
   "source": [
    "# ElasticNet model\n",
    "# Note: Use an alpha of .7\n",
    "from sklearn.linear_model import ElasticNet"
   ]
  },
  {
   "cell_type": "code",
   "execution_count": 8,
   "metadata": {},
   "outputs": [
    {
     "data": {
      "text/html": [
       "<div>\n",
       "<style>\n",
       "    .dataframe thead tr:only-child th {\n",
       "        text-align: right;\n",
       "    }\n",
       "\n",
       "    .dataframe thead th {\n",
       "        text-align: left;\n",
       "    }\n",
       "\n",
       "    .dataframe tbody tr th {\n",
       "        vertical-align: top;\n",
       "    }\n",
       "</style>\n",
       "<table border=\"1\" class=\"dataframe\">\n",
       "  <thead>\n",
       "    <tr style=\"text-align: right;\">\n",
       "      <th></th>\n",
       "      <th>NaicsCode</th>\n",
       "      <th>SBA Prediction_Linear</th>\n",
       "      <th>SBA Prediction_Lasso</th>\n",
       "      <th>SBA Prediction_Ridge</th>\n",
       "      <th>SBA Prediction_Elastic</th>\n",
       "      <th>Linear Score</th>\n",
       "      <th>Lasso Score</th>\n",
       "      <th>Ridge Score</th>\n",
       "      <th>Elastic Score</th>\n",
       "      <th>GrossApproval(Sum)</th>\n",
       "      <th>GrossApproval(mean)</th>\n",
       "      <th>SBAGuarantee(Sum)</th>\n",
       "      <th>SBAGuarantee(mean)</th>\n",
       "      <th>PrinBalanceCollected(Sum)</th>\n",
       "      <th>PrinBalanceCollected(mean)</th>\n",
       "      <th>COAmount(Sum)</th>\n",
       "      <th>COAmount(mean)</th>\n",
       "    </tr>\n",
       "  </thead>\n",
       "  <tbody>\n",
       "    <tr>\n",
       "      <th>0</th>\n",
       "      <td>722110</td>\n",
       "      <td>545387.603156</td>\n",
       "      <td>545363.879712</td>\n",
       "      <td>541142.011163</td>\n",
       "      <td>552434.587490</td>\n",
       "      <td>0.988050</td>\n",
       "      <td>0.988050</td>\n",
       "      <td>0.987852</td>\n",
       "      <td>0.985499</td>\n",
       "      <td>89724300</td>\n",
       "      <td>509797.159091</td>\n",
       "      <td>69892202</td>\n",
       "      <td>397114.784091</td>\n",
       "      <td>61135125.0</td>\n",
       "      <td>347358.664773</td>\n",
       "      <td>3064905</td>\n",
       "      <td>17414.232955</td>\n",
       "    </tr>\n",
       "    <tr>\n",
       "      <th>1</th>\n",
       "      <td>621111</td>\n",
       "      <td>358995.667449</td>\n",
       "      <td>358843.312790</td>\n",
       "      <td>312405.147756</td>\n",
       "      <td>-24790.293339</td>\n",
       "      <td>0.997429</td>\n",
       "      <td>0.997429</td>\n",
       "      <td>0.997422</td>\n",
       "      <td>0.995563</td>\n",
       "      <td>200177700</td>\n",
       "      <td>461238.940092</td>\n",
       "      <td>145104725</td>\n",
       "      <td>334342.684332</td>\n",
       "      <td>93441621.0</td>\n",
       "      <td>215303.274194</td>\n",
       "      <td>2907269</td>\n",
       "      <td>6698.776498</td>\n",
       "    </tr>\n",
       "    <tr>\n",
       "      <th>2</th>\n",
       "      <td>541211</td>\n",
       "      <td>-223204.240004</td>\n",
       "      <td>-223161.624949</td>\n",
       "      <td>-179838.494392</td>\n",
       "      <td>-45088.452857</td>\n",
       "      <td>0.996577</td>\n",
       "      <td>0.996577</td>\n",
       "      <td>0.996304</td>\n",
       "      <td>0.993864</td>\n",
       "      <td>39721200</td>\n",
       "      <td>296426.865672</td>\n",
       "      <td>29072160</td>\n",
       "      <td>216956.417910</td>\n",
       "      <td>17196300.0</td>\n",
       "      <td>128330.597015</td>\n",
       "      <td>2106335</td>\n",
       "      <td>15718.917910</td>\n",
       "    </tr>\n",
       "    <tr>\n",
       "      <th>3</th>\n",
       "      <td>238220</td>\n",
       "      <td>207571.050909</td>\n",
       "      <td>207470.461540</td>\n",
       "      <td>162985.584850</td>\n",
       "      <td>-7933.401431</td>\n",
       "      <td>0.998745</td>\n",
       "      <td>0.998745</td>\n",
       "      <td>0.998706</td>\n",
       "      <td>0.997821</td>\n",
       "      <td>60047100</td>\n",
       "      <td>277995.833333</td>\n",
       "      <td>42990160</td>\n",
       "      <td>199028.518519</td>\n",
       "      <td>23540623.0</td>\n",
       "      <td>108984.365741</td>\n",
       "      <td>846682</td>\n",
       "      <td>3919.824074</td>\n",
       "    </tr>\n",
       "  </tbody>\n",
       "</table>\n",
       "</div>"
      ],
      "text/plain": [
       "   NaicsCode  SBA Prediction_Linear  SBA Prediction_Lasso  \\\n",
       "0     722110          545387.603156         545363.879712   \n",
       "1     621111          358995.667449         358843.312790   \n",
       "2     541211         -223204.240004        -223161.624949   \n",
       "3     238220          207571.050909         207470.461540   \n",
       "\n",
       "   SBA Prediction_Ridge  SBA Prediction_Elastic  Linear Score  Lasso Score  \\\n",
       "0         541142.011163           552434.587490      0.988050     0.988050   \n",
       "1         312405.147756           -24790.293339      0.997429     0.997429   \n",
       "2        -179838.494392           -45088.452857      0.996577     0.996577   \n",
       "3         162985.584850            -7933.401431      0.998745     0.998745   \n",
       "\n",
       "   Ridge Score  Elastic Score  GrossApproval(Sum)  GrossApproval(mean)  \\\n",
       "0     0.987852       0.985499            89724300        509797.159091   \n",
       "1     0.997422       0.995563           200177700        461238.940092   \n",
       "2     0.996304       0.993864            39721200        296426.865672   \n",
       "3     0.998706       0.997821            60047100        277995.833333   \n",
       "\n",
       "   SBAGuarantee(Sum)  SBAGuarantee(mean)  PrinBalanceCollected(Sum)  \\\n",
       "0           69892202       397114.784091                 61135125.0   \n",
       "1          145104725       334342.684332                 93441621.0   \n",
       "2           29072160       216956.417910                 17196300.0   \n",
       "3           42990160       199028.518519                 23540623.0   \n",
       "\n",
       "   PrinBalanceCollected(mean)  COAmount(Sum)  COAmount(mean)  \n",
       "0               347358.664773        3064905    17414.232955  \n",
       "1               215303.274194        2907269     6698.776498  \n",
       "2               128330.597015        2106335    15718.917910  \n",
       "3               108984.365741         846682     3919.824074  "
      ]
     },
     "execution_count": 8,
     "metadata": {},
     "output_type": "execute_result"
    }
   ],
   "source": [
    "#1.Create a list of stuff\n",
    "features = ['GrossApproval', 'SBAGuarantee', 'PrinBalanceCollected', 'COAmount']\n",
    "# Description [Full-Service Restaurant, Doctor's Office, Office of CPA, Plumbing & HVAC]\n",
    "naics_codes = [722110, 621111, 541211, 238220]\n",
    "\n",
    "#2. create an empty list that will hold dictionary.\n",
    "ls = []\n",
    "\n",
    "#3. create a for loop base NAICS Code\n",
    "for code in naics_codes:\n",
    "    \n",
    "    filtered = fla[fla['NaicsCode'] == code]\n",
    "    \n",
    "    X = filtered[[\"PctOfGuarantee\",\"DebtCoverage\", \"Leverage\", \"PctOfPrinColl\",\"GrossApproval\" ]]\n",
    "    y = filtered[\"SBAGuarantee\"]\n",
    "    \n",
    "    X_train, X_test, y_train, y_test = train_test_split(X, y, random_state=60)\n",
    "\n",
    "#Linear\n",
    "    linearModel = LinearRegression()\n",
    "    linearModel.fit(X_train, y_train)\n",
    "    linear_diff = sum(linearModel.predict(X_test) - y_test)\n",
    "    linear_score = linearModel.score(X, y)\n",
    " #Lasso   \n",
    "    lassoModel = Lasso(alpha=.7)\n",
    "    lassoModel.fit(X_train, y_train)\n",
    "    lasso_diff = sum(lassoModel.predict(X_test) - y_test)\n",
    "    lasso_score = lassoModel.score(X, y)\n",
    "#Ridge\n",
    "    ridgeModel = Ridge(alpha=.7)\n",
    "    ridgeModel.fit(X_train, y_train)\n",
    "    ridge_diff = sum(ridgeModel.predict(X_test) - y_test)\n",
    "    ridge_score = ridgeModel.score(X, y)\n",
    "#ElasticNet\n",
    "    elasticmodel = ElasticNet(alpha=.7)\n",
    "    elasticmodel.fit(X_train, y_train)\n",
    "    elastic_diff = sum(elasticmodel.predict(X_test) - y_test)\n",
    "    elastic_score = elasticmodel.score(X, y)\n",
    "    \n",
    "    d = {}\n",
    "    d['NaicsCode'] = code\n",
    "    d['SBA Prediction_Linear'] = linear_diff\n",
    "    d[\"SBA Prediction_Lasso\"] = lasso_diff\n",
    "    d[\"SBA Prediction_Ridge\"] = ridge_diff\n",
    "    d[\"SBA Prediction_Elastic\"] = elastic_diff\n",
    "    d['Linear Score'] = linear_score\n",
    "    d['Lasso Score']= lasso_score\n",
    "    d['Ridge Score']= ridge_score\n",
    "    d['Elastic Score']= elastic_score\n",
    "    \n",
    "    \n",
    "    \n",
    "    \n",
    "    for feature in features:\n",
    "\n",
    "        d[feature + '(Sum)'] = filtered[feature].sum()\n",
    "        d[feature + '(mean)'] = filtered[feature].mean()\n",
    "        \n",
    "    ls.append(d)\n",
    "    \n",
    "\n",
    "sw_df = pd.DataFrame(ls, columns=ls[0].keys())\n",
    "\n",
    "sw_df"
   ]
  },
  {
   "cell_type": "code",
   "execution_count": 9,
   "metadata": {
    "collapsed": true
   },
   "outputs": [],
   "source": [
    "sw_df.to_excel(\"Summary_Industry.xls\")"
   ]
  },
  {
   "cell_type": "code",
   "execution_count": 10,
   "metadata": {},
   "outputs": [
    {
     "data": {
      "image/png": "[encoded data removed]",
      "text/plain": [
       "<matplotlib.figure.Figure at 0x112ad40b8>"
      ]
     },
     "metadata": {},
     "output_type": "display_data"
    }
   ],
   "source": [
    "plt.scatter(range(0, len(y_test)), linearModel.predict(X_test) - y_test, c=\"purple\", label=\"Testing Data\")\n",
    "plt.title(\"Actual SBAGuarantee Amount for the Training Data - Linear\")\n",
    "plt.show()"
   ]
  },
  {
   "cell_type": "code",
   "execution_count": 11,
   "metadata": {},
   "outputs": [
    {
     "data": {
      "image/png": "[encoded data removed]",
      "text/plain": [
       "<matplotlib.figure.Figure at 0x112b03358>"
      ]
     },
     "metadata": {},
     "output_type": "display_data"
    }
   ],
   "source": [
    "plt.scatter(range(0, len(y_test)), lassoModel.predict(X_test) - y_test, c=\"red\", label=\"Testing Data\")\n",
    "plt.title(\"Actual SBAGuarantee Amount for the Training Data - Lasso\")\n",
    "plt.show()"
   ]
  },
  {
   "cell_type": "code",
   "execution_count": 12,
   "metadata": {},
   "outputs": [
    {
     "data": {
      "image/png": "[encoded data removed]",
      "text/plain": [
       "<matplotlib.figure.Figure at 0x112b88ef0>"
      ]
     },
     "metadata": {},
     "output_type": "display_data"
    }
   ],
   "source": [
    "plt.scatter(range(0, len(y_test)), ridgeModel.predict(X_test) - y_test, c=\"green\", label=\"Testing Data\")\n",
    "plt.title(\"Actual SBAGuarantee Amount for the Training Data -Ridge\")\n",
    "plt.show()"
   ]
  },
  {
   "cell_type": "code",
   "execution_count": 13,
   "metadata": {},
   "outputs": [
    {
     "data": {
      "image/png": "[encoded data removed]",
      "text/plain": [
       "<matplotlib.figure.Figure at 0x112d1ca20>"
      ]
     },
     "metadata": {},
     "output_type": "display_data"
    }
   ],
   "source": [
    "plt.scatter(range(0, len(y_test)), elasticmodel.predict(X_test) - y_test, c=\"blue\", label=\"Testing Data\")\n",
    "plt.title(\"Actual SBAGuarantee Amount for the Training Data - Elastic\")\n",
    "plt.show()"
   ]
  }
 ],
 "metadata": {
  "kernelspec": {
   "display_name": "Python 3",
   "language": "python",
   "name": "python3"
  },
  "language_info": {
   "codemirror_mode": {
    "name": "ipython",
    "version": 3
   },
   "file_extension": ".py",
   "mimetype": "text/x-python",
   "name": "python",
   "nbconvert_exporter": "python",
   "pygments_lexer": "ipython3",
   "version": "3.6.3"
  }
 },
 "nbformat": 4,
 "nbformat_minor": 2
}
