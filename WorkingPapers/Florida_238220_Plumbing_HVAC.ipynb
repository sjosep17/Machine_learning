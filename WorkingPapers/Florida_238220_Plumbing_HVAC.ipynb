{
 "cells": [
  {
   "cell_type": "code",
   "execution_count": 16,
   "metadata": {
    "collapsed": true
   },
   "outputs": [],
   "source": [
    "import warnings\n",
    "warnings.simplefilter('ignore')\n",
    "\n",
    "# %matplotlib inline\n",
    "import matplotlib.pyplot as plt\n",
    "import numpy as np\n",
    "import pandas as pd"
   ]
  },
  {
   "cell_type": "code",
   "execution_count": 17,
   "metadata": {
    "collapsed": true
   },
   "outputs": [],
   "source": [
    "# Read the csv file into a pandas DataFrame\n",
    "\n",
    "fla = pd.read_csv('Florida_2.csv')\n",
    "#fla.head()"
   ]
  },
  {
   "cell_type": "code",
   "execution_count": 78,
   "metadata": {
    "collapsed": true,
    "scrolled": false
   },
   "outputs": [],
   "source": [
    "naics = fla.loc[fla['NaicsCode'] == 238220]"
   ]
  },
  {
   "cell_type": "code",
   "execution_count": 79,
   "metadata": {},
   "outputs": [
    {
     "data": {
      "text/plain": [
       "216"
      ]
     },
     "execution_count": 79,
     "metadata": {},
     "output_type": "execute_result"
    }
   ],
   "source": [
    "len(naics)"
   ]
  },
  {
   "cell_type": "code",
   "execution_count": 80,
   "metadata": {},
   "outputs": [
    {
     "name": "stdout",
     "output_type": "stream",
     "text": [
      "(216, 5) (216,)\n"
     ]
    }
   ],
   "source": [
    "# Selecting Independent and Dependent variables\n",
    "X = naics[[\"PctOfGuarantee\",\"DebtCoverage\", \"Leverage\", \"PctOfPrinColl\",\"GrossApproval\"]]\n",
    "y = naics[\"SBAGuarantee\"]\n",
    "\n",
    "# Print the shape of the variables\n",
    "print(X.shape, y.shape)"
   ]
  },
  {
   "cell_type": "code",
   "execution_count": 91,
   "metadata": {},
   "outputs": [
    {
     "data": {
      "text/html": [
       "<div>\n",
       "<style>\n",
       "    .dataframe thead tr:only-child th {\n",
       "        text-align: right;\n",
       "    }\n",
       "\n",
       "    .dataframe thead th {\n",
       "        text-align: left;\n",
       "    }\n",
       "\n",
       "    .dataframe tbody tr th {\n",
       "        vertical-align: top;\n",
       "    }\n",
       "</style>\n",
       "<table border=\"1\" class=\"dataframe\">\n",
       "  <thead>\n",
       "    <tr style=\"text-align: right;\">\n",
       "      <th></th>\n",
       "      <th>PctOfGuarantee</th>\n",
       "      <th>DebtCoverage</th>\n",
       "      <th>Leverage</th>\n",
       "      <th>PctOfPrinColl</th>\n",
       "      <th>GrossApproval</th>\n",
       "    </tr>\n",
       "  </thead>\n",
       "  <tbody>\n",
       "    <tr>\n",
       "      <th>4714</th>\n",
       "      <td>0.50</td>\n",
       "      <td>2.25</td>\n",
       "      <td>4.00</td>\n",
       "      <td>1.00</td>\n",
       "      <td>21000</td>\n",
       "    </tr>\n",
       "    <tr>\n",
       "      <th>8971</th>\n",
       "      <td>0.75</td>\n",
       "      <td>1.40</td>\n",
       "      <td>5.00</td>\n",
       "      <td>0.30</td>\n",
       "      <td>2405500</td>\n",
       "    </tr>\n",
       "    <tr>\n",
       "      <th>8895</th>\n",
       "      <td>0.90</td>\n",
       "      <td>2.25</td>\n",
       "      <td>4.00</td>\n",
       "      <td>1.00</td>\n",
       "      <td>140000</td>\n",
       "    </tr>\n",
       "    <tr>\n",
       "      <th>14731</th>\n",
       "      <td>0.50</td>\n",
       "      <td>2.25</td>\n",
       "      <td>2.75</td>\n",
       "      <td>0.35</td>\n",
       "      <td>50000</td>\n",
       "    </tr>\n",
       "    <tr>\n",
       "      <th>4648</th>\n",
       "      <td>0.50</td>\n",
       "      <td>2.25</td>\n",
       "      <td>4.00</td>\n",
       "      <td>1.00</td>\n",
       "      <td>27000</td>\n",
       "    </tr>\n",
       "  </tbody>\n",
       "</table>\n",
       "</div>"
      ],
      "text/plain": [
       "       PctOfGuarantee  DebtCoverage  Leverage  PctOfPrinColl  GrossApproval\n",
       "4714             0.50          2.25      4.00           1.00          21000\n",
       "8971             0.75          1.40      5.00           0.30        2405500\n",
       "8895             0.90          2.25      4.00           1.00         140000\n",
       "14731            0.50          2.25      2.75           0.35          50000\n",
       "4648             0.50          2.25      4.00           1.00          27000"
      ]
     },
     "execution_count": 91,
     "metadata": {},
     "output_type": "execute_result"
    }
   ],
   "source": [
    "from sklearn.model_selection import train_test_split\n",
    "\n",
    "X_train, X_test, y_train, y_test = train_test_split(X, y, random_state=60)\n",
    "                                                          #Size of the Test Population\n",
    "X_train.head()"
   ]
  },
  {
   "cell_type": "code",
   "execution_count": 114,
   "metadata": {},
   "outputs": [
    {
     "data": {
      "text/plain": [
       "LinearRegression(copy_X=True, fit_intercept=True, n_jobs=1, normalize=False)"
      ]
     },
     "execution_count": 114,
     "metadata": {},
     "output_type": "execute_result"
    }
   ],
   "source": [
    "# Import the Model and Fit the Model\n",
    "\n",
    "from sklearn.linear_model import LinearRegression\n",
    "model = LinearRegression()\n",
    "model.fit(X_train, y_train)"
   ]
  },
  {
   "cell_type": "code",
   "execution_count": 93,
   "metadata": {},
   "outputs": [
    {
     "data": {
      "text/plain": [
       "207571.05090934556"
      ]
     },
     "execution_count": 93,
     "metadata": {},
     "output_type": "execute_result"
    }
   ],
   "source": [
    "# The Predicted (y) for the Industry\n",
    "sum(model.predict(X_test) - y_test)"
   ]
  },
  {
   "cell_type": "code",
   "execution_count": 115,
   "metadata": {},
   "outputs": [
    {
     "data": {
      "image/png": "[encoded data removed]",
      "text/plain": [
       "<matplotlib.figure.Figure at 0x1a20739d30>"
      ]
     },
     "metadata": {},
     "output_type": "display_data"
    }
   ],
   "source": [
    "plt.scatter(range(0, len(y_test)), model.predict(X_test) - y_test, c=\"purple\", label=\"Testing Data\")\n",
    "plt.title(\"Predicted SBA Guarantee Amount\")\n",
    "plt.legend()\n",
    "plt.show()"
   ]
  },
  {
   "cell_type": "code",
   "execution_count": 95,
   "metadata": {},
   "outputs": [
    {
     "data": {
      "text/plain": [
       "0.99874513574796964"
      ]
     },
     "execution_count": 95,
     "metadata": {},
     "output_type": "execute_result"
    }
   ],
   "source": [
    "# Overall Score for the model\n",
    "model.score(X, y)"
   ]
  },
  {
   "cell_type": "code",
   "execution_count": 125,
   "metadata": {},
   "outputs": [
    {
     "data": {
      "text/plain": [
       "207470.46153951812"
      ]
     },
     "execution_count": 125,
     "metadata": {},
     "output_type": "execute_result"
    }
   ],
   "source": [
    "# LASSO model\n",
    "# Note: Use an alpha of .01 when creating the model for this activity\n",
    "from sklearn.linear_model import Lasso\n",
    "\n",
    "model = Lasso(alpha=.7)\n",
    "model.fit(X_train, y_train)\n",
    "sum(model.predict(X_test) - y_test)"
   ]
  },
  {
   "cell_type": "code",
   "execution_count": 126,
   "metadata": {},
   "outputs": [
    {
     "data": {
      "text/plain": [
       "162985.58485022461"
      ]
     },
     "execution_count": 126,
     "metadata": {},
     "output_type": "execute_result"
    }
   ],
   "source": [
    "# Ridge model\n",
    "# Note: Use an alpha of .01 when creating the model for this activity\n",
    "from sklearn.linear_model import Ridge\n",
    "\n",
    "model = Ridge(alpha=.7)\n",
    "model.fit(X_train, y_train)\n",
    "sum(model.predict(X_test) - y_test)"
   ]
  },
  {
   "cell_type": "code",
   "execution_count": 127,
   "metadata": {},
   "outputs": [
    {
     "data": {
      "text/plain": [
       "-7933.4014305878372"
      ]
     },
     "execution_count": 127,
     "metadata": {},
     "output_type": "execute_result"
    }
   ],
   "source": [
    "# ElasticNet model\n",
    "# Note: Use an alpha of .01 when creating the model for this activity\n",
    "from sklearn.linear_model import ElasticNet\n",
    "\n",
    "model3 = ElasticNet(alpha=.7)\n",
    "model3.fit(X_train, y_train)\n",
    "sum(model3.predict(X_test) - y_test)"
   ]
  },
  {
   "cell_type": "code",
   "execution_count": 132,
   "metadata": {
    "collapsed": true
   },
   "outputs": [],
   "source": [
    "one_naics = fla[fla['NaicsCode'] == 238220]"
   ]
  },
  {
   "cell_type": "code",
   "execution_count": 136,
   "metadata": {
    "collapsed": true
   },
   "outputs": [],
   "source": [
    "hvac = one_naics[['BorrName', 'GrossApproval', 'SBAGuarantee', 'PrinBalanceCollected', 'COAmount']]"
   ]
  },
  {
   "cell_type": "code",
   "execution_count": 137,
   "metadata": {},
   "outputs": [
    {
     "data": {
      "text/html": [
       "<div>\n",
       "<style>\n",
       "    .dataframe thead tr:only-child th {\n",
       "        text-align: right;\n",
       "    }\n",
       "\n",
       "    .dataframe thead th {\n",
       "        text-align: left;\n",
       "    }\n",
       "\n",
       "    .dataframe tbody tr th {\n",
       "        vertical-align: top;\n",
       "    }\n",
       "</style>\n",
       "<table border=\"1\" class=\"dataframe\">\n",
       "  <thead>\n",
       "    <tr style=\"text-align: right;\">\n",
       "      <th></th>\n",
       "      <th>BorrName</th>\n",
       "      <th>GrossApproval</th>\n",
       "      <th>SBAGuarantee</th>\n",
       "      <th>PrinBalanceCollected</th>\n",
       "      <th>COAmount</th>\n",
       "    </tr>\n",
       "  </thead>\n",
       "  <tbody>\n",
       "    <tr>\n",
       "      <th>25</th>\n",
       "      <td>Elite Holdings of Manatee, LLC</td>\n",
       "      <td>306000</td>\n",
       "      <td>275400</td>\n",
       "      <td>137700.0</td>\n",
       "      <td>0</td>\n",
       "    </tr>\n",
       "    <tr>\n",
       "      <th>136</th>\n",
       "      <td>A Proud Plumber, Inc.</td>\n",
       "      <td>25000</td>\n",
       "      <td>22500</td>\n",
       "      <td>9577.0</td>\n",
       "      <td>15423</td>\n",
       "    </tr>\n",
       "    <tr>\n",
       "      <th>170</th>\n",
       "      <td>COASTAL COOLING &amp; HEATING, LLC</td>\n",
       "      <td>15000</td>\n",
       "      <td>7500</td>\n",
       "      <td>4756.0</td>\n",
       "      <td>10244</td>\n",
       "    </tr>\n",
       "    <tr>\n",
       "      <th>268</th>\n",
       "      <td>PEAK PLUMBING LLC</td>\n",
       "      <td>200000</td>\n",
       "      <td>150000</td>\n",
       "      <td>34795.0</td>\n",
       "      <td>165205</td>\n",
       "    </tr>\n",
       "    <tr>\n",
       "      <th>280</th>\n",
       "      <td>ESVT Associates, Inc</td>\n",
       "      <td>601000</td>\n",
       "      <td>450750</td>\n",
       "      <td>96447.0</td>\n",
       "      <td>504553</td>\n",
       "    </tr>\n",
       "    <tr>\n",
       "      <th>371</th>\n",
       "      <td>ITBN LLC</td>\n",
       "      <td>1824000</td>\n",
       "      <td>1368000</td>\n",
       "      <td>547200.0</td>\n",
       "      <td>0</td>\n",
       "    </tr>\n",
       "    <tr>\n",
       "      <th>615</th>\n",
       "      <td>REDD G, INC.</td>\n",
       "      <td>514500</td>\n",
       "      <td>385875</td>\n",
       "      <td>154350.0</td>\n",
       "      <td>0</td>\n",
       "    </tr>\n",
       "    <tr>\n",
       "      <th>620</th>\n",
       "      <td>A-Z Climate Contol Specialist</td>\n",
       "      <td>328000</td>\n",
       "      <td>246000</td>\n",
       "      <td>98400.0</td>\n",
       "      <td>0</td>\n",
       "    </tr>\n",
       "    <tr>\n",
       "      <th>665</th>\n",
       "      <td>Sherenit, LLC</td>\n",
       "      <td>240000</td>\n",
       "      <td>120000</td>\n",
       "      <td>72000.0</td>\n",
       "      <td>0</td>\n",
       "    </tr>\n",
       "    <tr>\n",
       "      <th>666</th>\n",
       "      <td>J.J. DOUGLAS SERVICES, INC.</td>\n",
       "      <td>25000</td>\n",
       "      <td>12500</td>\n",
       "      <td>7500.0</td>\n",
       "      <td>0</td>\n",
       "    </tr>\n",
       "  </tbody>\n",
       "</table>\n",
       "</div>"
      ],
      "text/plain": [
       "                           BorrName  GrossApproval  SBAGuarantee  \\\n",
       "25   Elite Holdings of Manatee, LLC         306000        275400   \n",
       "136           A Proud Plumber, Inc.          25000         22500   \n",
       "170  COASTAL COOLING & HEATING, LLC          15000          7500   \n",
       "268               PEAK PLUMBING LLC         200000        150000   \n",
       "280            ESVT Associates, Inc         601000        450750   \n",
       "371                        ITBN LLC        1824000       1368000   \n",
       "615                    REDD G, INC.         514500        385875   \n",
       "620   A-Z Climate Contol Specialist         328000        246000   \n",
       "665                   Sherenit, LLC         240000        120000   \n",
       "666     J.J. DOUGLAS SERVICES, INC.          25000         12500   \n",
       "\n",
       "     PrinBalanceCollected  COAmount  \n",
       "25               137700.0         0  \n",
       "136                9577.0     15423  \n",
       "170                4756.0     10244  \n",
       "268               34795.0    165205  \n",
       "280               96447.0    504553  \n",
       "371              547200.0         0  \n",
       "615              154350.0         0  \n",
       "620               98400.0         0  \n",
       "665               72000.0         0  \n",
       "666                7500.0         0  "
      ]
     },
     "execution_count": 137,
     "metadata": {},
     "output_type": "execute_result"
    }
   ],
   "source": [
    "hvac.head(10)"
   ]
  },
  {
   "cell_type": "code",
   "execution_count": null,
   "metadata": {
    "collapsed": true
   },
   "outputs": [],
   "source": []
  }
 ],
 "metadata": {
  "kernelspec": {
   "display_name": "Python 3",
   "language": "python",
   "name": "python3"
  },
  "language_info": {
   "codemirror_mode": {
    "name": "ipython",
    "version": 3
   },
   "file_extension": ".py",
   "mimetype": "text/x-python",
   "name": "python",
   "nbconvert_exporter": "python",
   "pygments_lexer": "ipython3",
   "version": "3.6.3"
  }
 },
 "nbformat": 4,
 "nbformat_minor": 2
}
