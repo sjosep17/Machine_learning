{
 "cells": [
  {
   "cell_type": "code",
   "execution_count": 2,
   "metadata": {
    "collapsed": true
   },
   "outputs": [],
   "source": [
    "import warnings\n",
    "warnings.simplefilter('ignore')\n",
    "\n",
    "# %matplotlib inline\n",
    "import matplotlib.pyplot as plt\n",
    "import numpy as np\n",
    "import pandas as pd"
   ]
  },
  {
   "cell_type": "code",
   "execution_count": 3,
   "metadata": {},
   "outputs": [
    {
     "data": {
      "text/html": [
       "<div>\n",
       "<style>\n",
       "    .dataframe thead tr:only-child th {\n",
       "        text-align: right;\n",
       "    }\n",
       "\n",
       "    .dataframe thead th {\n",
       "        text-align: left;\n",
       "    }\n",
       "\n",
       "    .dataframe tbody tr th {\n",
       "        vertical-align: top;\n",
       "    }\n",
       "</style>\n",
       "<table border=\"1\" class=\"dataframe\">\n",
       "  <thead>\n",
       "    <tr style=\"text-align: right;\">\n",
       "      <th></th>\n",
       "      <th>BorrName</th>\n",
       "      <th>BorrStreet</th>\n",
       "      <th>BorrCity</th>\n",
       "      <th>BorrState</th>\n",
       "      <th>BorrZip</th>\n",
       "      <th>BorrID</th>\n",
       "      <th>LoanStatus</th>\n",
       "      <th>GrossApproval</th>\n",
       "      <th>SBAGuarantee</th>\n",
       "      <th>PctOfGuarantee</th>\n",
       "      <th>...</th>\n",
       "      <th>NaicsCode</th>\n",
       "      <th>NaicsDescription</th>\n",
       "      <th>JobsSupported</th>\n",
       "      <th>DeliveryMethod</th>\n",
       "      <th>subpgmdesc</th>\n",
       "      <th>BankName</th>\n",
       "      <th>BankStreet</th>\n",
       "      <th>BankCity</th>\n",
       "      <th>BankState</th>\n",
       "      <th>BankZip</th>\n",
       "    </tr>\n",
       "  </thead>\n",
       "  <tbody>\n",
       "    <tr>\n",
       "      <th>0</th>\n",
       "      <td>TARCA, INC..</td>\n",
       "      <td>3754 NW 54TH STREET</td>\n",
       "      <td>MIAMI</td>\n",
       "      <td>FL</td>\n",
       "      <td>33142</td>\n",
       "      <td>308</td>\n",
       "      <td>CHGOFF</td>\n",
       "      <td>1900000</td>\n",
       "      <td>1425000</td>\n",
       "      <td>0.75</td>\n",
       "      <td>...</td>\n",
       "      <td>423120</td>\n",
       "      <td>Motor Vehicle Supplies and New Parts Merchant ...</td>\n",
       "      <td>5</td>\n",
       "      <td>OTH 7A</td>\n",
       "      <td>Guaranty</td>\n",
       "      <td>TotalBank</td>\n",
       "      <td>100 SE 2nd St</td>\n",
       "      <td>MIAMI</td>\n",
       "      <td>FL</td>\n",
       "      <td>33131</td>\n",
       "    </tr>\n",
       "    <tr>\n",
       "      <th>1</th>\n",
       "      <td>Around the Clock Fitness</td>\n",
       "      <td>1242 SW Pine Island.</td>\n",
       "      <td>Cape coral</td>\n",
       "      <td>FL</td>\n",
       "      <td>33991</td>\n",
       "      <td>8127</td>\n",
       "      <td>PIF</td>\n",
       "      <td>521800</td>\n",
       "      <td>469620</td>\n",
       "      <td>0.90</td>\n",
       "      <td>...</td>\n",
       "      <td>713990</td>\n",
       "      <td>All Other Amusement and Recreation Industries</td>\n",
       "      <td>20</td>\n",
       "      <td>PLP</td>\n",
       "      <td>Guaranty</td>\n",
       "      <td>Newtek Small Business Finance, Inc.</td>\n",
       "      <td>1981 Marcus Avenue</td>\n",
       "      <td>LAKE SUCCESS</td>\n",
       "      <td>NY</td>\n",
       "      <td>11042</td>\n",
       "    </tr>\n",
       "    <tr>\n",
       "      <th>2</th>\n",
       "      <td>Integrated Metering Systems, I</td>\n",
       "      <td>11701 South Belcher Road, Sui</td>\n",
       "      <td>Largo</td>\n",
       "      <td>FL</td>\n",
       "      <td>33773</td>\n",
       "      <td>4025</td>\n",
       "      <td>PIF</td>\n",
       "      <td>40800</td>\n",
       "      <td>34680</td>\n",
       "      <td>0.85</td>\n",
       "      <td>...</td>\n",
       "      <td>335311</td>\n",
       "      <td>Power, Distribution, and Specialty Transformer...</td>\n",
       "      <td>23</td>\n",
       "      <td>PLP</td>\n",
       "      <td>Guaranty</td>\n",
       "      <td>Synovus Bank</td>\n",
       "      <td>1148 Broadway</td>\n",
       "      <td>COLUMBUS</td>\n",
       "      <td>GA</td>\n",
       "      <td>31901</td>\n",
       "    </tr>\n",
       "    <tr>\n",
       "      <th>3</th>\n",
       "      <td>Loving Enterprises Inc and 2 P</td>\n",
       "      <td>7885 Boca Ciega Drive</td>\n",
       "      <td>SAINT PETERSBURG</td>\n",
       "      <td>FL</td>\n",
       "      <td>33706</td>\n",
       "      <td>7228</td>\n",
       "      <td>PIF</td>\n",
       "      <td>332000</td>\n",
       "      <td>249000</td>\n",
       "      <td>0.75</td>\n",
       "      <td>...</td>\n",
       "      <td>453220</td>\n",
       "      <td>Gift, Novelty, and Souvenir Stores</td>\n",
       "      <td>21</td>\n",
       "      <td>PLP</td>\n",
       "      <td>Guaranty</td>\n",
       "      <td>PNC Bank, National Association</td>\n",
       "      <td>222 Delaware Ave</td>\n",
       "      <td>WILMINGTON</td>\n",
       "      <td>DE</td>\n",
       "      <td>19801</td>\n",
       "    </tr>\n",
       "    <tr>\n",
       "      <th>4</th>\n",
       "      <td>Lawrence J. Roberts &amp; Associat</td>\n",
       "      <td>249 Catalonia Avenue.</td>\n",
       "      <td>Coral gables</td>\n",
       "      <td>FL</td>\n",
       "      <td>33134</td>\n",
       "      <td>1508</td>\n",
       "      <td>EXEMPT</td>\n",
       "      <td>225000</td>\n",
       "      <td>112500</td>\n",
       "      <td>0.50</td>\n",
       "      <td>...</td>\n",
       "      <td>541110</td>\n",
       "      <td>Offices of Lawyers</td>\n",
       "      <td>3</td>\n",
       "      <td>SBA EXPRES</td>\n",
       "      <td>FA$TRK (Small Loan Express)</td>\n",
       "      <td>TotalBank</td>\n",
       "      <td>100 SE 2nd St</td>\n",
       "      <td>MIAMI</td>\n",
       "      <td>FL</td>\n",
       "      <td>33131</td>\n",
       "    </tr>\n",
       "  </tbody>\n",
       "</table>\n",
       "<p>5 rows × 37 columns</p>\n",
       "</div>"
      ],
      "text/plain": [
       "                         BorrName                     BorrStreet  \\\n",
       "0                    TARCA, INC..            3754 NW 54TH STREET   \n",
       "1        Around the Clock Fitness           1242 SW Pine Island.   \n",
       "2  Integrated Metering Systems, I  11701 South Belcher Road, Sui   \n",
       "3  Loving Enterprises Inc and 2 P          7885 Boca Ciega Drive   \n",
       "4  Lawrence J. Roberts & Associat          249 Catalonia Avenue.   \n",
       "\n",
       "           BorrCity BorrState  BorrZip  BorrID LoanStatus  GrossApproval  \\\n",
       "0             MIAMI        FL    33142     308     CHGOFF        1900000   \n",
       "1        Cape coral        FL    33991    8127        PIF         521800   \n",
       "2             Largo        FL    33773    4025        PIF          40800   \n",
       "3  SAINT PETERSBURG        FL    33706    7228        PIF         332000   \n",
       "4      Coral gables        FL    33134    1508     EXEMPT         225000   \n",
       "\n",
       "   SBAGuarantee  PctOfGuarantee   ...     NaicsCode  \\\n",
       "0       1425000            0.75   ...        423120   \n",
       "1        469620            0.90   ...        713990   \n",
       "2         34680            0.85   ...        335311   \n",
       "3        249000            0.75   ...        453220   \n",
       "4        112500            0.50   ...        541110   \n",
       "\n",
       "                                    NaicsDescription  JobsSupported  \\\n",
       "0  Motor Vehicle Supplies and New Parts Merchant ...              5   \n",
       "1      All Other Amusement and Recreation Industries             20   \n",
       "2  Power, Distribution, and Specialty Transformer...             23   \n",
       "3                 Gift, Novelty, and Souvenir Stores             21   \n",
       "4                                 Offices of Lawyers              3   \n",
       "\n",
       "  DeliveryMethod                   subpgmdesc  \\\n",
       "0         OTH 7A                     Guaranty   \n",
       "1            PLP                     Guaranty   \n",
       "2            PLP                     Guaranty   \n",
       "3            PLP                     Guaranty   \n",
       "4     SBA EXPRES  FA$TRK (Small Loan Express)   \n",
       "\n",
       "                              BankName          BankStreet      BankCity  \\\n",
       "0                            TotalBank       100 SE 2nd St         MIAMI   \n",
       "1  Newtek Small Business Finance, Inc.  1981 Marcus Avenue  LAKE SUCCESS   \n",
       "2                         Synovus Bank       1148 Broadway      COLUMBUS   \n",
       "3       PNC Bank, National Association    222 Delaware Ave    WILMINGTON   \n",
       "4                            TotalBank       100 SE 2nd St         MIAMI   \n",
       "\n",
       "   BankState  BankZip  \n",
       "0         FL    33131  \n",
       "1         NY    11042  \n",
       "2         GA    31901  \n",
       "3         DE    19801  \n",
       "4         FL    33131  \n",
       "\n",
       "[5 rows x 37 columns]"
      ]
     },
     "execution_count": 3,
     "metadata": {},
     "output_type": "execute_result"
    }
   ],
   "source": [
    "# Read the csv file into a pandas DataFrame\n",
    "\n",
    "fla = pd.read_csv('Florida_2.csv')\n",
    "#fla.head()"
   ]
  },
  {
   "cell_type": "code",
   "execution_count": 4,
   "metadata": {
    "collapsed": true,
    "scrolled": false
   },
   "outputs": [],
   "source": [
    "naics = fla.loc[fla['NaicsCode'] == 541211]"
   ]
  },
  {
   "cell_type": "code",
   "execution_count": 5,
   "metadata": {},
   "outputs": [
    {
     "name": "stdout",
     "output_type": "stream",
     "text": [
      "(134, 5) (134,)\n"
     ]
    }
   ],
   "source": [
    "# X used \"LoanStatus\", \"SBAGuarantee\",\n",
    "X = naics[[\"PctOfGuarantee\",\"DebtCoverage\", \"Leverage\", \"PctOfPrinColl\",\"GrossApproval\" ]]\n",
    "y = naics[\"SBAGuarantee\"]\n",
    "print(X.shape, y.shape)"
   ]
  },
  {
   "cell_type": "code",
   "execution_count": 27,
   "metadata": {},
   "outputs": [
    {
     "data": {
      "text/html": [
       "<div>\n",
       "<style>\n",
       "    .dataframe thead tr:only-child th {\n",
       "        text-align: right;\n",
       "    }\n",
       "\n",
       "    .dataframe thead th {\n",
       "        text-align: left;\n",
       "    }\n",
       "\n",
       "    .dataframe tbody tr th {\n",
       "        vertical-align: top;\n",
       "    }\n",
       "</style>\n",
       "<table border=\"1\" class=\"dataframe\">\n",
       "  <thead>\n",
       "    <tr style=\"text-align: right;\">\n",
       "      <th></th>\n",
       "      <th>PctOfGuarantee</th>\n",
       "      <th>DebtCoverage</th>\n",
       "      <th>Leverage</th>\n",
       "      <th>PctOfPrinColl</th>\n",
       "      <th>GrossApproval</th>\n",
       "    </tr>\n",
       "  </thead>\n",
       "  <tbody>\n",
       "    <tr>\n",
       "      <th>14487</th>\n",
       "      <td>0.90</td>\n",
       "      <td>2.25</td>\n",
       "      <td>4.0</td>\n",
       "      <td>1.0</td>\n",
       "      <td>320000</td>\n",
       "    </tr>\n",
       "    <tr>\n",
       "      <th>8452</th>\n",
       "      <td>0.50</td>\n",
       "      <td>1.40</td>\n",
       "      <td>5.0</td>\n",
       "      <td>0.3</td>\n",
       "      <td>20000</td>\n",
       "    </tr>\n",
       "    <tr>\n",
       "      <th>4809</th>\n",
       "      <td>0.75</td>\n",
       "      <td>1.00</td>\n",
       "      <td>4.0</td>\n",
       "      <td>0.3</td>\n",
       "      <td>345000</td>\n",
       "    </tr>\n",
       "    <tr>\n",
       "      <th>14579</th>\n",
       "      <td>0.50</td>\n",
       "      <td>2.25</td>\n",
       "      <td>4.0</td>\n",
       "      <td>1.0</td>\n",
       "      <td>50000</td>\n",
       "    </tr>\n",
       "    <tr>\n",
       "      <th>9959</th>\n",
       "      <td>0.50</td>\n",
       "      <td>1.00</td>\n",
       "      <td>4.0</td>\n",
       "      <td>0.3</td>\n",
       "      <td>250000</td>\n",
       "    </tr>\n",
       "  </tbody>\n",
       "</table>\n",
       "</div>"
      ],
      "text/plain": [
       "       PctOfGuarantee  DebtCoverage  Leverage  PctOfPrinColl  GrossApproval\n",
       "14487            0.90          2.25       4.0            1.0         320000\n",
       "8452             0.50          1.40       5.0            0.3          20000\n",
       "4809             0.75          1.00       4.0            0.3         345000\n",
       "14579            0.50          2.25       4.0            1.0          50000\n",
       "9959             0.50          1.00       4.0            0.3         250000"
      ]
     },
     "execution_count": 27,
     "metadata": {},
     "output_type": "execute_result"
    }
   ],
   "source": [
    "from sklearn.model_selection import train_test_split\n",
    "\n",
    "X_train, X_test, y_train, y_test = train_test_split(X, y, random_state=73)\n",
    "\n",
    "X_train.head()"
   ]
  },
  {
   "cell_type": "code",
   "execution_count": 28,
   "metadata": {},
   "outputs": [
    {
     "data": {
      "image/png": "[encoded data removed]",
      "text/plain": [
       "<matplotlib.figure.Figure at 0x1a18f62710>"
      ]
     },
     "metadata": {},
     "output_type": "display_data"
    }
   ],
   "source": [
    "from sklearn.linear_model import LinearRegression\n",
    "model = LinearRegression()\n",
    "model.fit(X_train, y_train)\n",
    "plt.scatter(model.predict(X_train), model.predict(X_train) - y_train, c=\"orange\", label=\"Training Data\")\n",
    "plt.scatter(model.predict(X_test), model.predict(X_test) - y_test, c=\"purple\", label=\"Testing Data\")\n",
    "plt.legend()\n",
    "plt.hlines(y=0, xmin=y_test.min(), xmax=y_test.max())\n",
    "plt.title(\"Projected SBA Guarantee\")\n",
    "plt.show()"
   ]
  },
  {
   "cell_type": "code",
   "execution_count": 29,
   "metadata": {},
   "outputs": [
    {
     "data": {
      "text/plain": [
       "125630.77441653541"
      ]
     },
     "execution_count": 29,
     "metadata": {},
     "output_type": "execute_result"
    }
   ],
   "source": [
    "sum(model.predict(X_test) - y_test)"
   ]
  },
  {
   "cell_type": "code",
   "execution_count": 18,
   "metadata": {},
   "outputs": [
    {
     "data": {
      "image/png": "[encoded data removed]",
      "text/plain": [
       "<matplotlib.figure.Figure at 0x1a19087b00>"
      ]
     },
     "metadata": {},
     "output_type": "display_data"
    }
   ],
   "source": [
    "plt.scatter(range(0, len(y_test)), model.predict(X_test) - y_test, c=\"purple\", label=\"Testing Data\")\n",
    "plt.show()"
   ]
  },
  {
   "cell_type": "code",
   "execution_count": 19,
   "metadata": {},
   "outputs": [
    {
     "data": {
      "text/plain": [
       "0.99664110494668756"
      ]
     },
     "execution_count": 19,
     "metadata": {},
     "output_type": "execute_result"
    }
   ],
   "source": [
    "# Overall Score for the model\n",
    "model.score(X, y)"
   ]
  },
  {
   "cell_type": "code",
   "execution_count": 20,
   "metadata": {},
   "outputs": [
    {
     "name": "stdout",
     "output_type": "stream",
     "text": [
      "Mean Squared Error (MSE): 305706868.10936546\n",
      "R-squared (R2 ): 0.9966411049466876\n"
     ]
    }
   ],
   "source": [
    "from sklearn.metrics import mean_squared_error, r2_score\n",
    "\n",
    "# Use our model to predict a value\n",
    "predicted = model.predict(X)\n",
    "\n",
    "# Score the prediction with mse and r2\n",
    "mse = mean_squared_error(y, predicted)\n",
    "r2 = r2_score(y, predicted)\n",
    "\n",
    "print(f\"Mean Squared Error (MSE): {mse}\")\n",
    "print(f\"R-squared (R2 ): {r2}\")"
   ]
  },
  {
   "cell_type": "code",
   "execution_count": 11,
   "metadata": {
    "collapsed": true
   },
   "outputs": [],
   "source": [
    "one_naics = fla[fla['NaicsCode'] == 541211]"
   ]
  },
  {
   "cell_type": "code",
   "execution_count": 12,
   "metadata": {},
   "outputs": [
    {
     "data": {
      "text/html": [
       "<div>\n",
       "<style>\n",
       "    .dataframe thead tr:only-child th {\n",
       "        text-align: right;\n",
       "    }\n",
       "\n",
       "    .dataframe thead th {\n",
       "        text-align: left;\n",
       "    }\n",
       "\n",
       "    .dataframe tbody tr th {\n",
       "        vertical-align: top;\n",
       "    }\n",
       "</style>\n",
       "<table border=\"1\" class=\"dataframe\">\n",
       "  <thead>\n",
       "    <tr style=\"text-align: right;\">\n",
       "      <th></th>\n",
       "      <th>count</th>\n",
       "      <th>mean</th>\n",
       "      <th>std</th>\n",
       "      <th>min</th>\n",
       "      <th>25%</th>\n",
       "      <th>50%</th>\n",
       "      <th>75%</th>\n",
       "      <th>max</th>\n",
       "    </tr>\n",
       "    <tr>\n",
       "      <th>NaicsCode</th>\n",
       "      <th></th>\n",
       "      <th></th>\n",
       "      <th></th>\n",
       "      <th></th>\n",
       "      <th></th>\n",
       "      <th></th>\n",
       "      <th></th>\n",
       "      <th></th>\n",
       "    </tr>\n",
       "  </thead>\n",
       "  <tbody>\n",
       "    <tr>\n",
       "      <th>541211</th>\n",
       "      <td>134.0</td>\n",
       "      <td>15718.91791</td>\n",
       "      <td>90950.661419</td>\n",
       "      <td>0.0</td>\n",
       "      <td>0.0</td>\n",
       "      <td>0.0</td>\n",
       "      <td>0.0</td>\n",
       "      <td>804264.0</td>\n",
       "    </tr>\n",
       "  </tbody>\n",
       "</table>\n",
       "</div>"
      ],
      "text/plain": [
       "           count         mean           std  min  25%  50%  75%       max\n",
       "NaicsCode                                                                \n",
       "541211     134.0  15718.91791  90950.661419  0.0  0.0  0.0  0.0  804264.0"
      ]
     },
     "execution_count": 12,
     "metadata": {},
     "output_type": "execute_result"
    }
   ],
   "source": [
    "one_naics.groupby('NaicsCode')['COAmount'].describe()"
   ]
  },
  {
   "cell_type": "code",
   "execution_count": 16,
   "metadata": {},
   "outputs": [
    {
     "data": {
      "text/plain": [
       "NaicsCode\n",
       "541211    15718.91791\n",
       "Name: COAmount, dtype: float64"
      ]
     },
     "execution_count": 16,
     "metadata": {},
     "output_type": "execute_result"
    }
   ],
   "source": [
    "one_naics.groupby('NaicsCode')['COAmount'].mean()"
   ]
  },
  {
   "cell_type": "code",
   "execution_count": 14,
   "metadata": {},
   "outputs": [
    {
     "data": {
      "text/html": [
       "<div>\n",
       "<style>\n",
       "    .dataframe thead tr:only-child th {\n",
       "        text-align: right;\n",
       "    }\n",
       "\n",
       "    .dataframe thead th {\n",
       "        text-align: left;\n",
       "    }\n",
       "\n",
       "    .dataframe tbody tr th {\n",
       "        vertical-align: top;\n",
       "    }\n",
       "</style>\n",
       "<table border=\"1\" class=\"dataframe\">\n",
       "  <thead>\n",
       "    <tr style=\"text-align: right;\">\n",
       "      <th></th>\n",
       "      <th>BorrName</th>\n",
       "      <th>GrossApproval</th>\n",
       "      <th>SBAGuarantee</th>\n",
       "      <th>PrinBalanceCollected</th>\n",
       "      <th>COAmount</th>\n",
       "    </tr>\n",
       "  </thead>\n",
       "  <tbody>\n",
       "    <tr>\n",
       "      <th>140</th>\n",
       "      <td>R.E. Janosko &amp; Associates, LLC</td>\n",
       "      <td>20000</td>\n",
       "      <td>17000</td>\n",
       "      <td>7471.0</td>\n",
       "      <td>12529</td>\n",
       "    </tr>\n",
       "    <tr>\n",
       "      <th>142</th>\n",
       "      <td>Tim Wheat, CPA, PA</td>\n",
       "      <td>749000</td>\n",
       "      <td>674100</td>\n",
       "      <td>278499.0</td>\n",
       "      <td>470501</td>\n",
       "    </tr>\n",
       "    <tr>\n",
       "      <th>208</th>\n",
       "      <td>Stephen P. Barnier, Jr., LLC</td>\n",
       "      <td>282000</td>\n",
       "      <td>211500</td>\n",
       "      <td>71562.0</td>\n",
       "      <td>210438</td>\n",
       "    </tr>\n",
       "    <tr>\n",
       "      <th>220</th>\n",
       "      <td>Merle F. Henry, C.P.A., P.A.</td>\n",
       "      <td>20000</td>\n",
       "      <td>10000</td>\n",
       "      <td>4688.0</td>\n",
       "      <td>15312</td>\n",
       "    </tr>\n",
       "    <tr>\n",
       "      <th>518</th>\n",
       "      <td>Cooper Taxes &amp; Accounting Serv</td>\n",
       "      <td>10000</td>\n",
       "      <td>9000</td>\n",
       "      <td>10000.0</td>\n",
       "      <td>0</td>\n",
       "    </tr>\n",
       "    <tr>\n",
       "      <th>670</th>\n",
       "      <td>CSJ TAX &amp;amp; ACCOUNTING SERVI</td>\n",
       "      <td>10000</td>\n",
       "      <td>5000</td>\n",
       "      <td>3000.0</td>\n",
       "      <td>0</td>\n",
       "    </tr>\n",
       "    <tr>\n",
       "      <th>691</th>\n",
       "      <td>Sumter &amp; Associates, LLC</td>\n",
       "      <td>241000</td>\n",
       "      <td>180750</td>\n",
       "      <td>241000.0</td>\n",
       "      <td>0</td>\n",
       "    </tr>\n",
       "    <tr>\n",
       "      <th>766</th>\n",
       "      <td>ANITA B. BURGAY, CPA, P.A.</td>\n",
       "      <td>70000</td>\n",
       "      <td>35000</td>\n",
       "      <td>21000.0</td>\n",
       "      <td>0</td>\n",
       "    </tr>\n",
       "    <tr>\n",
       "      <th>780</th>\n",
       "      <td>BANOS, GARCIA, AND ASSOCIATES,</td>\n",
       "      <td>50000</td>\n",
       "      <td>25000</td>\n",
       "      <td>15000.0</td>\n",
       "      <td>0</td>\n",
       "    </tr>\n",
       "    <tr>\n",
       "      <th>806</th>\n",
       "      <td>Miami Business Solutions, Inc.</td>\n",
       "      <td>35000</td>\n",
       "      <td>17500</td>\n",
       "      <td>10500.0</td>\n",
       "      <td>0</td>\n",
       "    </tr>\n",
       "  </tbody>\n",
       "</table>\n",
       "</div>"
      ],
      "text/plain": [
       "                           BorrName  GrossApproval  SBAGuarantee  \\\n",
       "140  R.E. Janosko & Associates, LLC          20000         17000   \n",
       "142              Tim Wheat, CPA, PA         749000        674100   \n",
       "208    Stephen P. Barnier, Jr., LLC         282000        211500   \n",
       "220    Merle F. Henry, C.P.A., P.A.          20000         10000   \n",
       "518  Cooper Taxes & Accounting Serv          10000          9000   \n",
       "670  CSJ TAX &amp; ACCOUNTING SERVI          10000          5000   \n",
       "691        Sumter & Associates, LLC         241000        180750   \n",
       "766      ANITA B. BURGAY, CPA, P.A.          70000         35000   \n",
       "780  BANOS, GARCIA, AND ASSOCIATES,          50000         25000   \n",
       "806  Miami Business Solutions, Inc.          35000         17500   \n",
       "\n",
       "     PrinBalanceCollected  COAmount  \n",
       "140                7471.0     12529  \n",
       "142              278499.0    470501  \n",
       "208               71562.0    210438  \n",
       "220                4688.0     15312  \n",
       "518               10000.0         0  \n",
       "670                3000.0         0  \n",
       "691              241000.0         0  \n",
       "766               21000.0         0  \n",
       "780               15000.0         0  \n",
       "806               10500.0         0  "
      ]
     },
     "execution_count": 14,
     "metadata": {},
     "output_type": "execute_result"
    }
   ],
   "source": [
    "one_naics[['BorrName', 'GrossApproval', 'SBAGuarantee', 'PrinBalanceCollected', 'COAmount']].head(10)"
   ]
  },
  {
   "cell_type": "code",
   "execution_count": null,
   "metadata": {
    "collapsed": true
   },
   "outputs": [],
   "source": []
  }
 ],
 "metadata": {
  "kernelspec": {
   "display_name": "Python 3",
   "language": "python",
   "name": "python3"
  },
  "language_info": {
   "codemirror_mode": {
    "name": "ipython",
    "version": 3
   },
   "file_extension": ".py",
   "mimetype": "text/x-python",
   "name": "python",
   "nbconvert_exporter": "python",
   "pygments_lexer": "ipython3",
   "version": "3.6.3"
  }
 },
 "nbformat": 4,
 "nbformat_minor": 2
}
