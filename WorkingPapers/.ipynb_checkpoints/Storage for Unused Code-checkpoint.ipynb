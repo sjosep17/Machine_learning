{
 "cells": [
  {
   "cell_type": "code",
   "execution_count": 1,
   "metadata": {
    "collapsed": true
   },
   "outputs": [],
   "source": [
    "#import statsmodels.api as sm\n",
    "\n",
    "# X = fla[[\"GrossApproval\", \"SBAGuarantee\" ,\"PctOfGuarantee\", \"PctOfPrinColl\", \"DebtCoverage\", \"Leverage\"]]\n",
    "# y = fla[\"SBAGuarantee\"]\n",
    "\n",
    "\n",
    "# results = sm.OLS(y,X.astype(float)).fit()\n",
    "# #       = sm.OLS(y, X.astype(float)).fit()\n",
    "# #sm.add_constant(X))\n",
    "# # data = X.copy()\n",
    "\n",
    "\n",
    "\n",
    "# print( results.summary())\n",
    "\n",
    "# plt.scatter(X,y)\n",
    "\n",
    "# X_plot = np.linspace(0,1,15137)\n",
    "\n",
    "# plt.plot(X_plot, X_plot*results.params[0] + results.params[1])\n",
    "\n",
    "# plt.show()"
   ]
  },
  {
   "cell_type": "code",
   "execution_count": 2,
   "metadata": {
    "collapsed": true
   },
   "outputs": [],
   "source": [
    "#line plot?\n",
    "# fig, ax = plt.subplots()\n",
    "\n",
    "# for key, grp in fla.groupby(['GrossApproval']):\n",
    "#     ax = grp.plot(ax=ax, kind='line', x='GrossApproval', y='SBAGuarantee', c=key, label=key)\n",
    "\n",
    "# plt.legend(loc='best')\n",
    "# plt.show()"
   ]
  },
  {
   "cell_type": "code",
   "execution_count": 3,
   "metadata": {
    "collapsed": true
   },
   "outputs": [],
   "source": [
    "# fla.fillna(0, inplace=True)\n",
    "# fla.head()\n",
    "\n",
    "#-----------------------------\n",
    "\n",
    "#X = pd.get_dummies(X)"
   ]
  },
  {
   "cell_type": "code",
   "execution_count": null,
   "metadata": {
    "collapsed": true
   },
   "outputs": [],
   "source": [
    "from sklearn.preprocessing import LabelEncoder, OneHotEncoder\n",
    "label_X = LabelEncoder()\n",
    "X[:,0] = label_X.fit_transform(X[:,0])\n",
    "encoder = OneHotEncoder(categorical_features = [0])\n",
    "X = encoder.fit_transform(X).toarray()\n",
    "\n",
    "from sklearn.cross_validation import train_test_split\n",
    "X_train, X_test, y_train,y_test = train_test_split(X, y, test_size = 0.4, random_state = 0)\n",
    "\n",
    "# Used for preprocessing\n",
    "\n",
    "#fitting Simple Regression to training set\n",
    "\n",
    "from sklearn.linear_model import LinearRegression\n",
    "regressor = LinearRegression()\n",
    "regressor.fit(X_train, y_train)\n",
    "\n",
    "#predecting the test set results\n",
    "y_pred = regressor.predict(X_test)\n",
    "\n",
    "#Visualization of the training set results\n",
    "plt.scatter(X_train, y_train, color = 'red')\n",
    "plt.plot(X_train, regressor.predict(X_train), color = 'green')\n",
    "plt.title('GrossApproval vs DebtService (Training set)')\n",
    "plt.xlabel('DebtService')\n",
    "plt.ylabel('GrossApproval')\n",
    "plt.show()"
   ]
  },
  {
   "cell_type": "code",
   "execution_count": null,
   "metadata": {
    "collapsed": true
   },
   "outputs": [],
   "source": [
    "# naics = fla[(fla.ApprovalFiscalYear <= 2018) & (fla.NaicsCode == 238220)]"
   ]
  },
  {
   "cell_type": "code",
   "execution_count": null,
   "metadata": {
    "collapsed": true
   },
   "outputs": [],
   "source": [
    "# from sklearn.metrics import mean_squared_error, r2_score\n",
    "\n",
    "# # Use our model to predict a value\n",
    "# predicted = model.predict(X)\n",
    "\n",
    "# # Score the prediction with mse and r2\n",
    "# mse = mean_squared_error(y, predicted)\n",
    "# r2 = r2_score(y, predicted)\n",
    "\n",
    "# print(f\"Mean Squared Error (MSE): {mse}\")\n",
    "# print(f\"R-squared (R2 ): {r2}\")"
   ]
  },
  {
   "cell_type": "code",
   "execution_count": null,
   "metadata": {
    "collapsed": true
   },
   "outputs": [],
   "source": [
    "# Google search phrase: \n",
    "    #Drop multiple columns in pandas\n",
    "    #How do I select multiple rows and columns from a pandas DataFrame?\n",
    "    #Binning column with python pandas\n",
    "    #Select rows from a DataFrame based on values in a column in pandas\n",
    "    #https://www.analyticsvidhya.com/blog/2016/01/complete-tutorial-ridge-lasso-regression-python/\n",
    "    "
   ]
  },
  {
   "cell_type": "code",
   "execution_count": null,
   "metadata": {
    "collapsed": true
   },
   "outputs": [],
   "source": [
    "# naics = fla.loc[fla['NaicsCode'] == 621111]\n",
    "\n",
    "# # X used \"LoanStatus\", \"SBAGuarantee\",\n",
    "# X = naics[[\"PctOfGuarantee\",\"DebtCoverage\", \"Leverage\", \"PctOfPrinColl\",\"GrossApproval\" ]]\n",
    "# y = naics[\"SBAGuarantee\"]\n",
    "# print(X.shape, y.shape)\n",
    "\n",
    "#from sklearn.model_selection import train_test_split\n",
    "# X_train, X_test, y_train, y_test = train_test_split(X, y, random_state=60)\n",
    "# # X_train.head()\n",
    "\n",
    "# model = LinearRegression()\n",
    "# model.fit(X_train, y_train)\n",
    "\n",
    "# sum(model.predict(X_test) - y_test)\n",
    "\n",
    "# Overall Score for the model\n",
    "# model.score(X, y)\n",
    "\n",
    "# model = Lasso(alpha=.7)\n",
    "# model.fit(X_train, y_train)\n",
    "# sum(model.predict(X_test) - y_test)\n",
    "\n",
    "# model = Ridge(alpha=.7)\n",
    "# model.fit(X_train, y_train)\n",
    "# sum(model.predict(X_test) - y_test)\n",
    "\n",
    "# model3 = ElasticNet(alpha=.7)\n",
    "# model3.fit(X_train, y_train)\n",
    "# sum(model3.predict(X_test) - y_test)\n",
    "\n",
    "# one_naics = fla[fla['NaicsCode'] == 621111]\n",
    "\n",
    "#s1=\n",
    "# one_naics[['GrossApproval', 'SBAGuarantee', 'PrinBalanceCollected', 'COAmount']].sum()"
   ]
  }
 ],
 "metadata": {
  "kernelspec": {
   "display_name": "Python 3",
   "language": "python",
   "name": "python3"
  },
  "language_info": {
   "codemirror_mode": {
    "name": "ipython",
    "version": 3
   },
   "file_extension": ".py",
   "mimetype": "text/x-python",
   "name": "python",
   "nbconvert_exporter": "python",
   "pygments_lexer": "ipython3",
   "version": "3.6.3"
  }
 },
 "nbformat": 4,
 "nbformat_minor": 2
}
