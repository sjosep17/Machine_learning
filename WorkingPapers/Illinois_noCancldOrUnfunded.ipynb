{
 "cells": [
  {
   "cell_type": "code",
   "execution_count": 1,
   "metadata": {
    "collapsed": true
   },
   "outputs": [],
   "source": [
    "import matplotlib.pyplot as plt\n",
    "import numpy as np\n",
    "import pandas as pd"
   ]
  },
  {
   "cell_type": "code",
   "execution_count": 2,
   "metadata": {},
   "outputs": [
    {
     "data": {
      "text/html": [
       "<div>\n",
       "<style>\n",
       "    .dataframe thead tr:only-child th {\n",
       "        text-align: right;\n",
       "    }\n",
       "\n",
       "    .dataframe thead th {\n",
       "        text-align: left;\n",
       "    }\n",
       "\n",
       "    .dataframe tbody tr th {\n",
       "        vertical-align: top;\n",
       "    }\n",
       "</style>\n",
       "<table border=\"1\" class=\"dataframe\">\n",
       "  <thead>\n",
       "    <tr style=\"text-align: right;\">\n",
       "      <th></th>\n",
       "      <th>BorrName</th>\n",
       "      <th>BorrStreet</th>\n",
       "      <th>BorrCity</th>\n",
       "      <th>BorrState</th>\n",
       "      <th>BorrZip</th>\n",
       "      <th>BorrID</th>\n",
       "      <th>LoanStatus</th>\n",
       "      <th>GrossApproval</th>\n",
       "      <th>SBAGuarantee</th>\n",
       "      <th>InterestRate</th>\n",
       "      <th>...</th>\n",
       "      <th>NaicsCode</th>\n",
       "      <th>NaicsDescription</th>\n",
       "      <th>JobsSupported</th>\n",
       "      <th>DeliveryMethod</th>\n",
       "      <th>subpgmdesc</th>\n",
       "      <th>BankName</th>\n",
       "      <th>BankStreet</th>\n",
       "      <th>BankCity</th>\n",
       "      <th>BankState</th>\n",
       "      <th>BankZip</th>\n",
       "    </tr>\n",
       "  </thead>\n",
       "  <tbody>\n",
       "    <tr>\n",
       "      <th>0</th>\n",
       "      <td>MetalStamp, Inc.</td>\n",
       "      <td>24219 NORTHERN ILLINOIS DRIVE</td>\n",
       "      <td>CHANNAHON</td>\n",
       "      <td>IL</td>\n",
       "      <td>60410</td>\n",
       "      <td>6388</td>\n",
       "      <td>EXEMPT</td>\n",
       "      <td>1730000</td>\n",
       "      <td>1297500</td>\n",
       "      <td>5.75</td>\n",
       "      <td>...</td>\n",
       "      <td>332116</td>\n",
       "      <td>Metal Stamping</td>\n",
       "      <td>50</td>\n",
       "      <td>OTH 7A</td>\n",
       "      <td>Guaranty</td>\n",
       "      <td>First American Bank</td>\n",
       "      <td>700 Busse Rd</td>\n",
       "      <td>ELK GROVE VILLAGE</td>\n",
       "      <td>IL</td>\n",
       "      <td>60007</td>\n",
       "    </tr>\n",
       "    <tr>\n",
       "      <th>1</th>\n",
       "      <td>Phillip M. Palella D.D.S. P.C.</td>\n",
       "      <td>2033 W Division St</td>\n",
       "      <td>CHICAGO</td>\n",
       "      <td>IL</td>\n",
       "      <td>60622</td>\n",
       "      <td>10922</td>\n",
       "      <td>PIF</td>\n",
       "      <td>176600</td>\n",
       "      <td>88300</td>\n",
       "      <td>7.00</td>\n",
       "      <td>...</td>\n",
       "      <td>621210</td>\n",
       "      <td>Offices of Dentists</td>\n",
       "      <td>23</td>\n",
       "      <td>SBA EXPRES</td>\n",
       "      <td>FA$TRK (Small Loan Express)</td>\n",
       "      <td>JPMorgan Chase Bank, National Association</td>\n",
       "      <td>1111 Polaris Pkwy</td>\n",
       "      <td>COLUMBUS</td>\n",
       "      <td>OH</td>\n",
       "      <td>43240</td>\n",
       "    </tr>\n",
       "    <tr>\n",
       "      <th>2</th>\n",
       "      <td>PINOY TURO-TURO, INC</td>\n",
       "      <td>1800 FAXON DR</td>\n",
       "      <td>MONTGOMERY</td>\n",
       "      <td>IL</td>\n",
       "      <td>60538</td>\n",
       "      <td>98</td>\n",
       "      <td>CHGOFF</td>\n",
       "      <td>30500</td>\n",
       "      <td>15250</td>\n",
       "      <td>9.00</td>\n",
       "      <td>...</td>\n",
       "      <td>722110</td>\n",
       "      <td>Full-Service Restaurants</td>\n",
       "      <td>10</td>\n",
       "      <td>SBA EXPRES</td>\n",
       "      <td>FA$TRK (Small Loan Express)</td>\n",
       "      <td>JPMorgan Chase Bank, National Association</td>\n",
       "      <td>1111 Polaris Pkwy</td>\n",
       "      <td>COLUMBUS</td>\n",
       "      <td>OH</td>\n",
       "      <td>43240</td>\n",
       "    </tr>\n",
       "    <tr>\n",
       "      <th>3</th>\n",
       "      <td>TURNER BAILEY, INC.</td>\n",
       "      <td>410 BROADWAY</td>\n",
       "      <td>SOUTH ROXANA</td>\n",
       "      <td>IL</td>\n",
       "      <td>62037</td>\n",
       "      <td>164</td>\n",
       "      <td>CHGOFF</td>\n",
       "      <td>800000</td>\n",
       "      <td>600000</td>\n",
       "      <td>6.00</td>\n",
       "      <td>...</td>\n",
       "      <td>562910</td>\n",
       "      <td>Remediation Services</td>\n",
       "      <td>45</td>\n",
       "      <td>OTH 7A</td>\n",
       "      <td>Guaranty</td>\n",
       "      <td>Providence Bank</td>\n",
       "      <td>3855 Forum Blvd</td>\n",
       "      <td>COLUMBIA</td>\n",
       "      <td>MO</td>\n",
       "      <td>65203</td>\n",
       "    </tr>\n",
       "    <tr>\n",
       "      <th>4</th>\n",
       "      <td>KB TRUCK REPAIR INC.</td>\n",
       "      <td>3641 HIGHWAY 111</td>\n",
       "      <td>PONTOON BEACH</td>\n",
       "      <td>IL</td>\n",
       "      <td>62040</td>\n",
       "      <td>8691</td>\n",
       "      <td>PIF</td>\n",
       "      <td>505000</td>\n",
       "      <td>378750</td>\n",
       "      <td>6.00</td>\n",
       "      <td>...</td>\n",
       "      <td>811310</td>\n",
       "      <td>Commercial and Industrial Machinery and Equipm...</td>\n",
       "      <td>18</td>\n",
       "      <td>OTH 7A</td>\n",
       "      <td>Guaranty</td>\n",
       "      <td>United Community Bank</td>\n",
       "      <td>301 N Main St</td>\n",
       "      <td>CHATHAM</td>\n",
       "      <td>IL</td>\n",
       "      <td>62629</td>\n",
       "    </tr>\n",
       "  </tbody>\n",
       "</table>\n",
       "<p>5 rows × 34 columns</p>\n",
       "</div>"
      ],
      "text/plain": [
       "                         BorrName                     BorrStreet  \\\n",
       "0                MetalStamp, Inc.  24219 NORTHERN ILLINOIS DRIVE   \n",
       "1  Phillip M. Palella D.D.S. P.C.             2033 W Division St   \n",
       "2            PINOY TURO-TURO, INC                  1800 FAXON DR   \n",
       "3             TURNER BAILEY, INC.                   410 BROADWAY   \n",
       "4            KB TRUCK REPAIR INC.               3641 HIGHWAY 111   \n",
       "\n",
       "        BorrCity BorrState  BorrZip  BorrID LoanStatus  GrossApproval  \\\n",
       "0      CHANNAHON        IL    60410    6388     EXEMPT        1730000   \n",
       "1        CHICAGO        IL    60622   10922        PIF         176600   \n",
       "2     MONTGOMERY        IL    60538      98     CHGOFF          30500   \n",
       "3   SOUTH ROXANA        IL    62037     164     CHGOFF         800000   \n",
       "4  PONTOON BEACH        IL    62040    8691        PIF         505000   \n",
       "\n",
       "   SBAGuarantee  InterestRate   ...     NaicsCode  \\\n",
       "0       1297500          5.75   ...        332116   \n",
       "1         88300          7.00   ...        621210   \n",
       "2         15250          9.00   ...        722110   \n",
       "3        600000          6.00   ...        562910   \n",
       "4        378750          6.00   ...        811310   \n",
       "\n",
       "                                    NaicsDescription JobsSupported  \\\n",
       "0                                     Metal Stamping            50   \n",
       "1                                Offices of Dentists            23   \n",
       "2                           Full-Service Restaurants            10   \n",
       "3                               Remediation Services            45   \n",
       "4  Commercial and Industrial Machinery and Equipm...            18   \n",
       "\n",
       "  DeliveryMethod                   subpgmdesc  \\\n",
       "0         OTH 7A                     Guaranty   \n",
       "1     SBA EXPRES  FA$TRK (Small Loan Express)   \n",
       "2     SBA EXPRES  FA$TRK (Small Loan Express)   \n",
       "3         OTH 7A                     Guaranty   \n",
       "4         OTH 7A                     Guaranty   \n",
       "\n",
       "                                    BankName         BankStreet  \\\n",
       "0                        First American Bank       700 Busse Rd   \n",
       "1  JPMorgan Chase Bank, National Association  1111 Polaris Pkwy   \n",
       "2  JPMorgan Chase Bank, National Association  1111 Polaris Pkwy   \n",
       "3                            Providence Bank    3855 Forum Blvd   \n",
       "4                      United Community Bank      301 N Main St   \n",
       "\n",
       "            BankCity  BankState  BankZip  \n",
       "0  ELK GROVE VILLAGE         IL    60007  \n",
       "1           COLUMBUS         OH    43240  \n",
       "2           COLUMBUS         OH    43240  \n",
       "3           COLUMBIA         MO    65203  \n",
       "4            CHATHAM         IL    62629  \n",
       "\n",
       "[5 rows x 34 columns]"
      ]
     },
     "execution_count": 2,
     "metadata": {},
     "output_type": "execute_result"
    }
   ],
   "source": [
    "# Read the csv file into a pandas DataFrame\n",
    "\n",
    "ill = pd.read_csv('Illinois_2.csv')\n",
    "ill.head()"
   ]
  },
  {
   "cell_type": "code",
   "execution_count": 3,
   "metadata": {
    "collapsed": true
   },
   "outputs": [],
   "source": [
    "ill =ill.dropna()"
   ]
  },
  {
   "cell_type": "code",
   "execution_count": 4,
   "metadata": {},
   "outputs": [
    {
     "data": {
      "text/html": [
       "<div>\n",
       "<style>\n",
       "    .dataframe thead tr:only-child th {\n",
       "        text-align: right;\n",
       "    }\n",
       "\n",
       "    .dataframe thead th {\n",
       "        text-align: left;\n",
       "    }\n",
       "\n",
       "    .dataframe tbody tr th {\n",
       "        vertical-align: top;\n",
       "    }\n",
       "</style>\n",
       "<table border=\"1\" class=\"dataframe\">\n",
       "  <thead>\n",
       "    <tr style=\"text-align: right;\">\n",
       "      <th></th>\n",
       "      <th>BorrZip</th>\n",
       "      <th>BorrID</th>\n",
       "      <th>GrossApproval</th>\n",
       "      <th>SBAGuarantee</th>\n",
       "      <th>InterestRate</th>\n",
       "      <th>TermMonths</th>\n",
       "      <th>ApprovalFiscalYear</th>\n",
       "      <th>Status</th>\n",
       "      <th>COFiscalYear</th>\n",
       "      <th>COAmount</th>\n",
       "      <th>...</th>\n",
       "      <th>BankState_NC</th>\n",
       "      <th>BankState_NE</th>\n",
       "      <th>BankState_NY</th>\n",
       "      <th>BankState_OH</th>\n",
       "      <th>BankState_OR</th>\n",
       "      <th>BankState_RI</th>\n",
       "      <th>BankState_SD</th>\n",
       "      <th>BankState_TX</th>\n",
       "      <th>BankState_UT</th>\n",
       "      <th>BankState_WI</th>\n",
       "    </tr>\n",
       "  </thead>\n",
       "  <tbody>\n",
       "    <tr>\n",
       "      <th>2</th>\n",
       "      <td>60538</td>\n",
       "      <td>98</td>\n",
       "      <td>30500</td>\n",
       "      <td>15250</td>\n",
       "      <td>9.00</td>\n",
       "      <td>41</td>\n",
       "      <td>2010</td>\n",
       "      <td>1</td>\n",
       "      <td>2014.0</td>\n",
       "      <td>19740.0</td>\n",
       "      <td>...</td>\n",
       "      <td>0</td>\n",
       "      <td>0</td>\n",
       "      <td>0</td>\n",
       "      <td>1</td>\n",
       "      <td>0</td>\n",
       "      <td>0</td>\n",
       "      <td>0</td>\n",
       "      <td>0</td>\n",
       "      <td>0</td>\n",
       "      <td>0</td>\n",
       "    </tr>\n",
       "    <tr>\n",
       "      <th>3</th>\n",
       "      <td>62037</td>\n",
       "      <td>164</td>\n",
       "      <td>800000</td>\n",
       "      <td>600000</td>\n",
       "      <td>6.00</td>\n",
       "      <td>67</td>\n",
       "      <td>2010</td>\n",
       "      <td>1</td>\n",
       "      <td>2015.0</td>\n",
       "      <td>313222.0</td>\n",
       "      <td>...</td>\n",
       "      <td>0</td>\n",
       "      <td>0</td>\n",
       "      <td>0</td>\n",
       "      <td>0</td>\n",
       "      <td>0</td>\n",
       "      <td>0</td>\n",
       "      <td>0</td>\n",
       "      <td>0</td>\n",
       "      <td>0</td>\n",
       "      <td>0</td>\n",
       "    </tr>\n",
       "    <tr>\n",
       "      <th>12</th>\n",
       "      <td>62701</td>\n",
       "      <td>319</td>\n",
       "      <td>125000</td>\n",
       "      <td>106250</td>\n",
       "      <td>6.00</td>\n",
       "      <td>43</td>\n",
       "      <td>2010</td>\n",
       "      <td>1</td>\n",
       "      <td>2016.0</td>\n",
       "      <td>72391.0</td>\n",
       "      <td>...</td>\n",
       "      <td>0</td>\n",
       "      <td>0</td>\n",
       "      <td>0</td>\n",
       "      <td>0</td>\n",
       "      <td>0</td>\n",
       "      <td>0</td>\n",
       "      <td>0</td>\n",
       "      <td>0</td>\n",
       "      <td>0</td>\n",
       "      <td>0</td>\n",
       "    </tr>\n",
       "    <tr>\n",
       "      <th>17</th>\n",
       "      <td>60564</td>\n",
       "      <td>219</td>\n",
       "      <td>180000</td>\n",
       "      <td>135000</td>\n",
       "      <td>5.50</td>\n",
       "      <td>48</td>\n",
       "      <td>2010</td>\n",
       "      <td>1</td>\n",
       "      <td>2015.0</td>\n",
       "      <td>145158.0</td>\n",
       "      <td>...</td>\n",
       "      <td>0</td>\n",
       "      <td>0</td>\n",
       "      <td>0</td>\n",
       "      <td>0</td>\n",
       "      <td>0</td>\n",
       "      <td>0</td>\n",
       "      <td>0</td>\n",
       "      <td>0</td>\n",
       "      <td>0</td>\n",
       "      <td>0</td>\n",
       "    </tr>\n",
       "    <tr>\n",
       "      <th>26</th>\n",
       "      <td>60302</td>\n",
       "      <td>64</td>\n",
       "      <td>50000</td>\n",
       "      <td>25000</td>\n",
       "      <td>6.25</td>\n",
       "      <td>33</td>\n",
       "      <td>2010</td>\n",
       "      <td>1</td>\n",
       "      <td>2013.0</td>\n",
       "      <td>31821.0</td>\n",
       "      <td>...</td>\n",
       "      <td>0</td>\n",
       "      <td>0</td>\n",
       "      <td>0</td>\n",
       "      <td>0</td>\n",
       "      <td>0</td>\n",
       "      <td>0</td>\n",
       "      <td>0</td>\n",
       "      <td>0</td>\n",
       "      <td>0</td>\n",
       "      <td>0</td>\n",
       "    </tr>\n",
       "  </tbody>\n",
       "</table>\n",
       "<p>5 rows × 4175 columns</p>\n",
       "</div>"
      ],
      "text/plain": [
       "    BorrZip  BorrID  GrossApproval  SBAGuarantee  InterestRate  TermMonths  \\\n",
       "2     60538      98          30500         15250          9.00          41   \n",
       "3     62037     164         800000        600000          6.00          67   \n",
       "12    62701     319         125000        106250          6.00          43   \n",
       "17    60564     219         180000        135000          5.50          48   \n",
       "26    60302      64          50000         25000          6.25          33   \n",
       "\n",
       "    ApprovalFiscalYear  Status  COFiscalYear  COAmount      ...       \\\n",
       "2                 2010       1        2014.0   19740.0      ...        \n",
       "3                 2010       1        2015.0  313222.0      ...        \n",
       "12                2010       1        2016.0   72391.0      ...        \n",
       "17                2010       1        2015.0  145158.0      ...        \n",
       "26                2010       1        2013.0   31821.0      ...        \n",
       "\n",
       "    BankState_NC  BankState_NE  BankState_NY  BankState_OH  BankState_OR  \\\n",
       "2              0             0             0             1             0   \n",
       "3              0             0             0             0             0   \n",
       "12             0             0             0             0             0   \n",
       "17             0             0             0             0             0   \n",
       "26             0             0             0             0             0   \n",
       "\n",
       "    BankState_RI  BankState_SD  BankState_TX  BankState_UT  BankState_WI  \n",
       "2              0             0             0             0             0  \n",
       "3              0             0             0             0             0  \n",
       "12             0             0             0             0             0  \n",
       "17             0             0             0             0             0  \n",
       "26             0             0             0             0             0  \n",
       "\n",
       "[5 rows x 4175 columns]"
      ]
     },
     "execution_count": 4,
     "metadata": {},
     "output_type": "execute_result"
    }
   ],
   "source": [
    "# Use Pandas get_dummies to convert categorical data\n",
    "\n",
    "### BEGIN SOLUTION\n",
    "ill = pd.get_dummies(ill)\n",
    "ill.head()\n",
    "### END SOLUTION"
   ]
  },
  {
   "cell_type": "code",
   "execution_count": 52,
   "metadata": {},
   "outputs": [
    {
     "name": "stdout",
     "output_type": "stream",
     "text": [
      "(483, 5) (483, 1)\n"
     ]
    }
   ],
   "source": [
    "# Assign X (data) and y (target)\n",
    "\n",
    "### BEGIN SOLUTION\n",
    "X = ill[['COAmount', 'GrossApproval', 'TermMonths', 'ApprovalFiscalYear', 'COFiscalYear']]\n",
    "y = ill[\"SBAGuarantee\"].values.reshape(-1, 1)\n",
    "print(X.shape, y.shape)\n",
    "### END SOLUTION"
   ]
  },
  {
   "cell_type": "code",
   "execution_count": 53,
   "metadata": {
    "collapsed": true
   },
   "outputs": [],
   "source": [
    "# Split the data into training and testing\n",
    "\n",
    "### BEGIN SOLUTION\n",
    "from sklearn.model_selection import train_test_split\n",
    "\n",
    "X_train, X_test, y_train, y_test = train_test_split(X, y, random_state=42)\n",
    "### END SOLUTION"
   ]
  },
  {
   "cell_type": "code",
   "execution_count": 54,
   "metadata": {},
   "outputs": [
    {
     "name": "stderr",
     "output_type": "stream",
     "text": [
      "/Users/fjgalliano/anaconda3/lib/python3.6/site-packages/sklearn/utils/validation.py:475: DataConversionWarning: Data with input dtype int64 was converted to float64 by StandardScaler.\n",
      "  warnings.warn(msg, DataConversionWarning)\n"
     ]
    }
   ],
   "source": [
    "from sklearn.preprocessing import StandardScaler\n",
    "\n",
    "# Create a StandardScater model and fit it to the training data\n",
    "\n",
    "### BEGIN SOLUTION\n",
    "X_scaler = StandardScaler().fit(X_train)\n",
    "y_scaler = StandardScaler().fit(y_train)\n",
    "### END SOLUTION"
   ]
  },
  {
   "cell_type": "code",
   "execution_count": 55,
   "metadata": {},
   "outputs": [
    {
     "name": "stderr",
     "output_type": "stream",
     "text": [
      "/Users/fjgalliano/anaconda3/lib/python3.6/site-packages/sklearn/utils/validation.py:475: DataConversionWarning: Data with input dtype int64 was converted to float64 by StandardScaler.\n",
      "  warnings.warn(msg, DataConversionWarning)\n"
     ]
    }
   ],
   "source": [
    "# Transform the training and testing data using the X_scaler and y_scaler models\n",
    "\n",
    "### BEGIN SOLUTION\n",
    "X_train_scaled = X_scaler.transform(X_train)\n",
    "X_test_scaled = X_scaler.transform(X_test)\n",
    "y_train_scaled = y_scaler.transform(y_train)\n",
    "y_test_scaled = y_scaler.transform(y_test)\n",
    "### END SOLUTION"
   ]
  },
  {
   "cell_type": "code",
   "execution_count": 56,
   "metadata": {},
   "outputs": [
    {
     "data": {
      "text/plain": [
       "LinearRegression(copy_X=True, fit_intercept=True, n_jobs=1, normalize=False)"
      ]
     },
     "execution_count": 56,
     "metadata": {},
     "output_type": "execute_result"
    }
   ],
   "source": [
    "# Create a LinearRegression model and fit it to the scaled training data\n",
    "\n",
    "### BEGIN SOLUTION\n",
    "from sklearn.linear_model import LinearRegression\n",
    "model = LinearRegression()\n",
    "model.fit(X_train_scaled, y_train_scaled)\n",
    "### END SOLUTION"
   ]
  },
  {
   "cell_type": "code",
   "execution_count": 57,
   "metadata": {},
   "outputs": [
    {
     "data": {
      "image/png": "[encoded data removed]",
      "text/plain": [
       "<matplotlib.figure.Figure at 0x11963be10>"
      ]
     },
     "metadata": {},
     "output_type": "display_data"
    }
   ],
   "source": [
    "# Make predictions using the X_test_scaled data\n",
    "# Plot y_test_scaled vs y_test_scaled\n",
    "# Scatter plot y_test_scaled vs predictions\n",
    "\n",
    "### BEGIN SOLUTION\n",
    "predictions = model.predict(X_test_scaled)\n",
    "model.fit(X_train_scaled, y_train_scaled)\n",
    "plt.scatter(model.predict(X_train_scaled), model.predict(X_train_scaled) - y_train_scaled, c=\"blue\", label=\"Training Data\")\n",
    "plt.scatter(model.predict(X_test_scaled), model.predict(X_test_scaled) - y_test_scaled, c=\"orange\", label=\"Testing Data\")\n",
    "plt.legend()\n",
    "plt.hlines(y=0, xmin=y_test_scaled.min(), xmax=y_test_scaled.max())\n",
    "plt.title(\"Residual Plot\")\n",
    "plt.show()\n",
    "### END SOLUTION"
   ]
  },
  {
   "cell_type": "code",
   "execution_count": 58,
   "metadata": {},
   "outputs": [
    {
     "name": "stdout",
     "output_type": "stream",
     "text": [
      "MSE: 0.012236414473897343, R2: 0.9820810789848007\n"
     ]
    }
   ],
   "source": [
    "# Used X_test_scaled, y_test_scaled, and model.predict(X_test_scaled) to calculate MSE and R2\n",
    "\n",
    "### BEGIN SOLUTION\n",
    "from sklearn.metrics import mean_squared_error\n",
    "\n",
    "MSE = mean_squared_error(y_test_scaled, predictions)\n",
    "r2 = model.score(X_test_scaled, y_test_scaled)\n",
    "### END SOLUTION\n",
    "\n",
    "print(f\"MSE: {MSE}, R2: {r2}\")"
   ]
  },
  {
   "cell_type": "code",
   "execution_count": 59,
   "metadata": {},
   "outputs": [
    {
     "name": "stdout",
     "output_type": "stream",
     "text": [
      "MSE: 0.01242372511445288, R2: 0.9818067825738235\n"
     ]
    }
   ],
   "source": [
    "# LASSO model\n",
    "# Note: Use an alpha of .01 when creating the model for this activity\n",
    "from sklearn.linear_model import Lasso\n",
    "\n",
    "### BEGIN SOLUTION\n",
    "lasso = Lasso(alpha=.01).fit(X_train_scaled, y_train_scaled)\n",
    "\n",
    "predictions = lasso.predict(X_test_scaled)\n",
    "\n",
    "MSE = mean_squared_error(y_test_scaled, predictions)\n",
    "r2 = lasso.score(X_test_scaled, y_test_scaled)\n",
    "### END SOLUTION\n",
    "\n",
    "print(f\"MSE: {MSE}, R2: {r2}\")"
   ]
  },
  {
   "cell_type": "code",
   "execution_count": 60,
   "metadata": {},
   "outputs": [
    {
     "name": "stdout",
     "output_type": "stream",
     "text": [
      "MSE: 0.012240766631266642, R2: 0.9820747057155468\n"
     ]
    }
   ],
   "source": [
    "# Ridge model\n",
    "# Note: Use an alpha of .01 when creating the model for this activity\n",
    "from sklearn.linear_model import Ridge\n",
    "\n",
    "### BEGIN SOLUTION\n",
    "ridge = Ridge(alpha=.01).fit(X_train_scaled, y_train_scaled)\n",
    "\n",
    "predictions = ridge.predict(X_test_scaled)\n",
    "\n",
    "MSE = mean_squared_error(y_test_scaled, predictions)\n",
    "r2 = ridge.score(X_test_scaled, y_test_scaled)\n",
    "### END SOLUTION\n",
    "\n",
    "print(f\"MSE: {MSE}, R2: {r2}\")"
   ]
  },
  {
   "cell_type": "code",
   "execution_count": 61,
   "metadata": {},
   "outputs": [
    {
     "name": "stdout",
     "output_type": "stream",
     "text": [
      "MSE: 0.012986931810742978, R2: 0.9809820265697193\n"
     ]
    }
   ],
   "source": [
    "# ElasticNet model\n",
    "# Note: Use an alpha of .01 when creating the model for this activity\n",
    "from sklearn.linear_model import ElasticNet\n",
    "\n",
    "### BEGIN SOLUTION\n",
    "elasticnet = ElasticNet(alpha=.01).fit(X_train_scaled, y_train_scaled)\n",
    "\n",
    "predictions = elasticnet.predict(X_test_scaled)\n",
    "\n",
    "MSE = mean_squared_error(y_test_scaled, predictions)\n",
    "r2 = elasticnet.score(X_test_scaled, y_test_scaled)\n",
    "### END SOLUTION\n",
    "\n",
    "print(f\"MSE: {MSE}, R2: {r2}\")"
   ]
  },
  {
   "cell_type": "code",
   "execution_count": 74,
   "metadata": {},
   "outputs": [
    {
     "name": "stdout",
     "output_type": "stream",
     "text": [
      "(483, 3) (483, 1)\n"
     ]
    }
   ],
   "source": [
    "# Assign X (data) and y (target)\n",
    "\n",
    "### BEGIN SOLUTION 2\n",
    "X = ill[['SBAGuarantee', 'GrossApproval', 'Status']]\n",
    "y = ill[\"COAmount\"].values.reshape(-1, 1)\n",
    "print(X.shape, y.shape)\n",
    "### END SOLUTION"
   ]
  },
  {
   "cell_type": "code",
   "execution_count": 75,
   "metadata": {
    "collapsed": true
   },
   "outputs": [],
   "source": [
    "# Split the data into training and testing\n",
    "\n",
    "### BEGIN SOLUTION\n",
    "from sklearn.model_selection import train_test_split\n",
    "\n",
    "X_train, X_test, y_train, y_test = train_test_split(X, y, random_state=42)\n",
    "### END SOLUTION"
   ]
  },
  {
   "cell_type": "code",
   "execution_count": 76,
   "metadata": {
    "collapsed": true
   },
   "outputs": [],
   "source": [
    "from sklearn.preprocessing import StandardScaler\n",
    "\n",
    "# Create a StandardScater model and fit it to the training data\n",
    "\n",
    "### BEGIN SOLUTION\n",
    "X_scaler = StandardScaler().fit(X_train)\n",
    "y_scaler = StandardScaler().fit(y_train)\n",
    "### END SOLUTION"
   ]
  },
  {
   "cell_type": "code",
   "execution_count": 77,
   "metadata": {
    "collapsed": true
   },
   "outputs": [],
   "source": [
    "# Transform the training and testing data using the X_scaler and y_scaler models\n",
    "\n",
    "### BEGIN SOLUTION\n",
    "X_train_scaled = X_scaler.transform(X_train)\n",
    "X_test_scaled = X_scaler.transform(X_test)\n",
    "y_train_scaled = y_scaler.transform(y_train)\n",
    "y_test_scaled = y_scaler.transform(y_test)\n",
    "### END SOLUTION"
   ]
  },
  {
   "cell_type": "code",
   "execution_count": 78,
   "metadata": {},
   "outputs": [
    {
     "data": {
      "text/plain": [
       "LinearRegression(copy_X=True, fit_intercept=True, n_jobs=1, normalize=False)"
      ]
     },
     "execution_count": 78,
     "metadata": {},
     "output_type": "execute_result"
    }
   ],
   "source": [
    "# Create a LinearRegression model and fit it to the scaled training data\n",
    "\n",
    "### BEGIN SOLUTION\n",
    "from sklearn.linear_model import LinearRegression\n",
    "model = LinearRegression()\n",
    "model.fit(X_train_scaled, y_train_scaled)\n",
    "### END SOLUTION"
   ]
  },
  {
   "cell_type": "code",
   "execution_count": 79,
   "metadata": {},
   "outputs": [
    {
     "data": {
      "image/png": "[encoded data removed]",
      "text/plain": [
       "<matplotlib.figure.Figure at 0x113237630>"
      ]
     },
     "metadata": {},
     "output_type": "display_data"
    }
   ],
   "source": [
    "# Make predictions using the X_test_scaled data\n",
    "# Plot y_test_scaled vs y_test_scaled\n",
    "# Scatter plot y_test_scaled vs predictions\n",
    "\n",
    "### BEGIN SOLUTION\n",
    "predictions = model.predict(X_test_scaled)\n",
    "model.fit(X_train_scaled, y_train_scaled)\n",
    "plt.scatter(model.predict(X_train_scaled), model.predict(X_train_scaled) - y_train_scaled, c=\"blue\", label=\"Training Data\")\n",
    "plt.scatter(model.predict(X_test_scaled), model.predict(X_test_scaled) - y_test_scaled, c=\"orange\", label=\"Testing Data\")\n",
    "plt.legend()\n",
    "plt.hlines(y=0, xmin=y_test_scaled.min(), xmax=y_test_scaled.max())\n",
    "plt.title(\"Residual Plot\")\n",
    "plt.show()\n",
    "### END SOLUTION"
   ]
  },
  {
   "cell_type": "code",
   "execution_count": 80,
   "metadata": {},
   "outputs": [
    {
     "name": "stdout",
     "output_type": "stream",
     "text": [
      "MSE: 0.14719096337966422, R2: 0.770116669096345\n"
     ]
    }
   ],
   "source": [
    "# Used X_test_scaled, y_test_scaled, and model.predict(X_test_scaled) to calculate MSE and R2\n",
    "\n",
    "### BEGIN SOLUTION\n",
    "from sklearn.metrics import mean_squared_error\n",
    "\n",
    "MSE = mean_squared_error(y_test_scaled, predictions)\n",
    "r2 = model.score(X_test_scaled, y_test_scaled)\n",
    "### END SOLUTION\n",
    "\n",
    "print(f\"MSE: {MSE}, R2: {r2}\")"
   ]
  },
  {
   "cell_type": "code",
   "execution_count": 81,
   "metadata": {},
   "outputs": [
    {
     "name": "stdout",
     "output_type": "stream",
     "text": [
      "MSE: 0.14882623768655653, R2: 0.7675626923033546\n"
     ]
    }
   ],
   "source": [
    "# LASSO model\n",
    "# Note: Use an alpha of .01 when creating the model for this activity\n",
    "from sklearn.linear_model import Lasso\n",
    "\n",
    "### BEGIN SOLUTION\n",
    "lasso = Lasso(alpha=.01).fit(X_train_scaled, y_train_scaled)\n",
    "\n",
    "predictions = lasso.predict(X_test_scaled)\n",
    "\n",
    "MSE = mean_squared_error(y_test_scaled, predictions)\n",
    "r2 = lasso.score(X_test_scaled, y_test_scaled)\n",
    "### END SOLUTION\n",
    "\n",
    "print(f\"MSE: {MSE}, R2: {r2}\")"
   ]
  },
  {
   "cell_type": "code",
   "execution_count": 82,
   "metadata": {},
   "outputs": [
    {
     "name": "stdout",
     "output_type": "stream",
     "text": [
      "MSE: 0.1472372043791359, R2: 0.7700444497512251\n"
     ]
    }
   ],
   "source": [
    "# Ridge model\n",
    "# Note: Use an alpha of .01 when creating the model for this activity\n",
    "from sklearn.linear_model import Ridge\n",
    "\n",
    "### BEGIN SOLUTION\n",
    "ridge = Ridge(alpha=.01).fit(X_train_scaled, y_train_scaled)\n",
    "\n",
    "predictions = ridge.predict(X_test_scaled)\n",
    "\n",
    "MSE = mean_squared_error(y_test_scaled, predictions)\n",
    "r2 = ridge.score(X_test_scaled, y_test_scaled)\n",
    "### END SOLUTION\n",
    "\n",
    "print(f\"MSE: {MSE}, R2: {r2}\")"
   ]
  },
  {
   "cell_type": "code",
   "execution_count": 83,
   "metadata": {},
   "outputs": [
    {
     "name": "stdout",
     "output_type": "stream",
     "text": [
      "MSE: 0.15246645958740718, R2: 0.7618773817613108\n"
     ]
    }
   ],
   "source": [
    "# ElasticNet model\n",
    "# Note: Use an alpha of .01 when creating the model for this activity\n",
    "from sklearn.linear_model import ElasticNet\n",
    "\n",
    "### BEGIN SOLUTION\n",
    "elasticnet = ElasticNet(alpha=.01).fit(X_train_scaled, y_train_scaled)\n",
    "\n",
    "predictions = elasticnet.predict(X_test_scaled)\n",
    "\n",
    "MSE = mean_squared_error(y_test_scaled, predictions)\n",
    "r2 = elasticnet.score(X_test_scaled, y_test_scaled)\n",
    "### END SOLUTION\n",
    "\n",
    "print(f\"MSE: {MSE}, R2: {r2}\")"
   ]
  },
  {
   "cell_type": "code",
   "execution_count": null,
   "metadata": {
    "collapsed": true
   },
   "outputs": [],
   "source": []
  }
 ],
 "metadata": {
  "kernelspec": {
   "display_name": "Python 3",
   "language": "python",
   "name": "python3"
  },
  "language_info": {
   "codemirror_mode": {
    "name": "ipython",
    "version": 3
   },
   "file_extension": ".py",
   "mimetype": "text/x-python",
   "name": "python",
   "nbconvert_exporter": "python",
   "pygments_lexer": "ipython3",
   "version": "3.6.3"
  }
 },
 "nbformat": 4,
 "nbformat_minor": 2
}
